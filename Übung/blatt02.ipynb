{
 "cells": [
  {
   "cell_type": "markdown",
   "metadata": {},
   "source": [
    "$$\\textbf{Blatt 02 - Praktische Optimierung - Adrian Lentz, Robert}$$\n",
    "\n",
    "Lösungen und Erklärungen für Blatt 02. $$\\newline$$\n",
    "Adrian Lentz - Matrikelnummer: 258882 $$\\newline$$\n",
    "Robert ??? - Matrikelnumme: ???"
   ]
  },
  {
   "cell_type": "code",
   "execution_count": 3,
   "metadata": {},
   "outputs": [],
   "source": [
    "#Pakete importieren\n",
    "import numpy as np\n",
    "import matplotlib.pyplot as plt\n",
    "from scipy import optimize \n"
   ]
  },
  {
   "cell_type": "markdown",
   "metadata": {},
   "source": [
    "$$\\textbf{Aufgabe 2.1}$$\n"
   ]
  },
  {
   "cell_type": "code",
   "execution_count": 16,
   "metadata": {},
   "outputs": [
    {
     "name": "stdout",
     "output_type": "stream",
     "text": [
      "Minimierung von Funktion f_1(x) mithilfe von \"Brent\"-Algrithmus: -4.999999999999998\n",
      "Minimierung von Funktion f_2(x) mithilfe von \"Brent\"-Algrithmus: -0.04768757620900461\n"
     ]
    }
   ],
   "source": [
    "x=np.linspace(-10,10)\n",
    "x_0=0                           #Startwert\n",
    "def f_1(x):                     #Definiert Funktion f_1(x)\n",
    "    return (x+5)**2\n",
    "\n",
    "def f_2(x):                     #Definiert Funktion f_2(x)\n",
    "    return (x+3)**2 - 5*np.cos(5*x)\n",
    "\n",
    "#Minimierung mithilfe von \"Brent\"\n",
    "minimizer_brent_f_1 = optimize.brent(f_1, brack=(x_0,10)) #Brack: If bracket consists of two numbers (a,c) then they are assumed to be a starting interval for a downhill bracket search\n",
    "minimizer_brent_f_2 = optimize.brent(f_2, brack=None) #Brack noch auswählen?\n",
    "\n",
    "print(f'Minimierung von Funktion f_1(x) mithilfe von \"Brent\"-Algrithmus: {minimizer_brent_f_1}' )\n",
    "print(f'Minimierung von Funktion f_2(x) mithilfe von \"Brent\"-Algrithmus: {minimizer_brent_f_2}' )"
   ]
  }
 ],
 "metadata": {
  "kernelspec": {
   "display_name": "Python 3",
   "language": "python",
   "name": "python3"
  },
  "language_info": {
   "codemirror_mode": {
    "name": "ipython",
    "version": 3
   },
   "file_extension": ".py",
   "mimetype": "text/x-python",
   "name": "python",
   "nbconvert_exporter": "python",
   "pygments_lexer": "ipython3",
   "version": "3.12.2"
  }
 },
 "nbformat": 4,
 "nbformat_minor": 2
}
