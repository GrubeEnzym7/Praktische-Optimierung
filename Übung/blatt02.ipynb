{
 "cells": [
  {
   "cell_type": "markdown",
   "metadata": {},
   "source": [
    "$$\\textbf{Blatt 02 - Praktische Optimierung - Adrian Lentz, Robert}$$\n",
    "\n",
    "Lösungen und Erklärungen für Blatt 02. $$\\newline$$\n",
    "Adrian Lentz - Matrikelnummer: 258882 $$\\newline$$\n",
    "Robert ??? - Matrikelnumme: ???"
   ]
  },
  {
   "cell_type": "code",
   "execution_count": 2,
   "metadata": {},
   "outputs": [],
   "source": [
    "#Pakete importieren\n",
    "import numpy as np\n",
    "import matplotlib.pyplot as plt\n",
    "from scipy import optimize \n"
   ]
  },
  {
   "cell_type": "markdown",
   "metadata": {},
   "source": [
    "$$\\textbf{Aufgabe 2.1}$$\n"
   ]
  },
  {
   "cell_type": "code",
   "execution_count": 25,
   "metadata": {},
   "outputs": [
    {
     "name": "stdout",
     "output_type": "stream",
     "text": [
      "Minimierung von Funktion f_1(x) mithilfe von \"Brent\"-Algrithmus: -5.0\n",
      "Minimierung von Funktion f_2(x) mithilfe von \"Brent\"-Algrithmus: -2.5209409522100947\n",
      "Minimierung von Funktion f_1(x) mithilfe von \"BFGS\"-Algrithmus: [-5.00000003]\n",
      "Minimierung von Funktion f_2(x) mithilfe von \"BFGS\"-Algrithmus: [-2.52094096]\n",
      "Minimierung von Funktion f_1(x) mithilfe von \"L-BFGS-B\"-Algrithmus: [-5.00000003]\n",
      "[-4.99449928]\n"
     ]
    }
   ],
   "source": [
    "x=np.linspace(-10,10)\n",
    "x_0=0                           #Startwert\n",
    "def f_1(x):                     #Definiert Funktion f_1(x)\n",
    "    return (x+5)**2\n",
    "\n",
    "def f_2(x):                     #Definiert Funktion f_2(x)\n",
    "    return (x+3)**2 - 5*np.cos(5*x)\n",
    "\n",
    "#Minimierung mithilfe von \"Brent\"\n",
    "minimizer_brent_f_1 = optimize.brent(f_1, brack=(x_0,10)) #Brack: If bracket consists of two numbers (a,c) then they are assumed to be a starting interval for a downhill bracket search\n",
    "minimizer_brent_f_2 = optimize.brent(f_2, brack=(x_0,10)) #Brack noch auswählen??\n",
    "\n",
    "print(f'Minimierung von Funktion f_1(x) mithilfe von \"Brent\"-Algrithmus: {minimizer_brent_f_1}' )\n",
    "print(f'Minimierung von Funktion f_2(x) mithilfe von \"Brent\"-Algrithmus: {minimizer_brent_f_2}' )\n",
    "\n",
    "#Minimierung mithilfe von \"BFGS\"\n",
    "minimizer_BFGS_f_1= optimize.minimize(f_1,x_0,method='BFGS')  #Startwert x_0\n",
    "minimizer_BFGS_f_2= optimize.minimize(f_2,x_0,method='BFGS')  #Startwert x_0\n",
    "#Speichert Minimum ab\n",
    "x_wert_BFGS_f_1=minimizer_BFGS_f_1.x\n",
    "x_wert_BFGS_f_2=minimizer_BFGS_f_2.x\n",
    "print(f'Minimierung von Funktion f_1(x) mithilfe von \"BFGS\"-Algrithmus: {x_wert_BFGS_f_1}' )\n",
    "print(f'Minimierung von Funktion f_2(x) mithilfe von \"BFGS\"-Algrithmus: {x_wert_BFGS_f_2}' )\n",
    "\n",
    "#Minimierung mithilfe von \"L-BFGS-B\"\n",
    "minimizer_L_BFGS_B_f_1= optimize.minimize(f_1,x_0,method='L-BFGS-B')  #Startwert x_0\n",
    "minimizer_L_BFGS_B_f_2= optimize.minimize(f_2,x_0,method='L-BFGS-B')  #Startwert x_0\n",
    "x_wert_L_BFGS_f_1=minimizer_BFGS_f_1.x\n",
    "print(f'Minimierung von Funktion f_1(x) mithilfe von \"L-BFGS-B\"-Algrithmus: {x_wert_L_BFGS_f_1}' )\n",
    "print(minimizer_L_BFGS_B_f_2.x) #Wert unterschiedlich ?\n"
   ]
  },
  {
   "cell_type": "markdown",
   "metadata": {},
   "source": [
    "Aktuelle Fragen:\n",
    "- Bei Brent : was muss in Brack stehen ? Wie bekommen ich den Startwert von x_0 rein?\n",
    "- Bei L-BFGS-B: Wert für Funktion f_2 deutlich anders ? "
   ]
  }
 ],
 "metadata": {
  "kernelspec": {
   "display_name": "Python 3",
   "language": "python",
   "name": "python3"
  },
  "language_info": {
   "codemirror_mode": {
    "name": "ipython",
    "version": 3
   },
   "file_extension": ".py",
   "mimetype": "text/x-python",
   "name": "python",
   "nbconvert_exporter": "python",
   "pygments_lexer": "ipython3",
   "version": "3.12.2"
  }
 },
 "nbformat": 4,
 "nbformat_minor": 2
}
