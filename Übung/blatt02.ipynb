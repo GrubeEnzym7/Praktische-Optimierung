{
 "cells": [
  {
   "cell_type": "markdown",
   "metadata": {},
   "source": [
    "$$\\textbf{Blatt 02 - Praktische Optimierung - Adrian Lentz, Robert}$$\n",
    "\n",
    "Lösungen und Erklärungen für Blatt 02. $$\\newline$$\n",
    "Adrian Lentz - Matrikelnummer: 258882 $$\\newline$$\n",
    "Robert ??? - Matrikelnummer: ???"
   ]
  },
  {
   "cell_type": "code",
   "execution_count": 1,
   "metadata": {},
   "outputs": [
    {
     "ename": "ModuleNotFoundError",
     "evalue": "No module named 'numpy'",
     "output_type": "error",
     "traceback": [
      "\u001b[0;31m---------------------------------------------------------------------------\u001b[0m",
      "\u001b[0;31mModuleNotFoundError\u001b[0m                       Traceback (most recent call last)",
      "Cell \u001b[0;32mIn[1], line 2\u001b[0m\n\u001b[1;32m      1\u001b[0m \u001b[38;5;66;03m#Pakete importieren\u001b[39;00m\n\u001b[0;32m----> 2\u001b[0m \u001b[38;5;28;01mimport\u001b[39;00m \u001b[38;5;21;01mnumpy\u001b[39;00m \u001b[38;5;28;01mas\u001b[39;00m \u001b[38;5;21;01mnp\u001b[39;00m\n\u001b[1;32m      3\u001b[0m \u001b[38;5;28;01mimport\u001b[39;00m \u001b[38;5;21;01mmatplotlib\u001b[39;00m\u001b[38;5;21;01m.\u001b[39;00m\u001b[38;5;21;01mpyplot\u001b[39;00m \u001b[38;5;28;01mas\u001b[39;00m \u001b[38;5;21;01mplt\u001b[39;00m\n\u001b[1;32m      4\u001b[0m \u001b[38;5;28;01mfrom\u001b[39;00m \u001b[38;5;21;01mscipy\u001b[39;00m \u001b[38;5;28;01mimport\u001b[39;00m optimize \n",
      "\u001b[0;31mModuleNotFoundError\u001b[0m: No module named 'numpy'"
     ]
    }
   ],
   "source": [
    "#Pakete importieren\n",
    "import numpy as np\n",
    "import matplotlib.pyplot as plt\n",
    "from scipy import optimize \n"
   ]
  },
  {
   "cell_type": "markdown",
   "metadata": {},
   "source": [
    "$$\\textbf{Aufgabe 2.1}$$\n"
   ]
  },
  {
   "cell_type": "code",
   "execution_count": null,
   "metadata": {},
   "outputs": [],
   "source": [
    "x=np.linspace(-10,10)\n",
    "\n",
    "x_0=0                           #Startwert\n",
    "def f_1(x):                     #Definiert Funktion f_1(x)\n",
    "    return (x+5)**2\n",
    "\n",
    "def f_2(x):                     #Definiert Funktion f_2(x)\n",
    "    return (x+3)**2 - 5*np.cos(5*x)\n",
    "\n",
    "\n",
    "'''\n",
    "#Scalarer Optimierer mit Brent-Algo.\n",
    "res=optimize.minimize_scalar(f_1)\n",
    "print(res)  --> Gibt gleiches Ergebniss aus\n",
    "'''\n",
    "\n",
    "\n",
    "#Minimierung mithilfe von \"Brent\"\n",
    "minimizer_brent_f_1 = optimize.brent(f_1, brack=(-10,10),full_output=True) #Brack: If bracket consists of two numbers (a,c) then they are assumed to be a starting interval for a downhill bracket search\n",
    "minimizer_brent_f_2 = optimize.brent(f_2, brack=(-10,10),full_output=True) #Brack legt Start Bereich zwischen (a,c) der Suche fest\n",
    "#Output : (a,b,c,d) mit a=xmin , b=f(xmin) , c=Anzahl der Iterationen , d=Anzahl der Funktionsbewertungen\n",
    "\n",
    "print(f'Minimierung der Funktion f_1(x) mithilfe von \"Brent\"-Algrithmus: Optimum bei x={minimizer_brent_f_1[0]} und dem Funktionswert f(x)={minimizer_brent_f_1[1]}' )\n",
    "print(f'Minimierung der Funktion f_2(x) mithilfe von \"Brent\"-Algrithmus: Optimum bei x={minimizer_brent_f_2[0]} und dem Funktionswert f(x)={minimizer_brent_f_2[1]}' )\n",
    "\n",
    "#Minimierung mithilfe von \"BFGS\"                             \n",
    "minimizer_BFGS_f_1= optimize.minimize(f_1,x_0,method='BFGS')  #Startwert x_0\n",
    "minimizer_BFGS_f_2= optimize.minimize(f_2,x_0,method='BFGS')  #Startwert x_0\n",
    "#Ausgabe f_1\n",
    "Ausgabe_BFGS_f_1=minimizer_BFGS_f_1\n",
    "Ausgabe_BFGS_f_1_x_wert= str(Ausgabe_BFGS_f_1.x).strip('[]')\n",
    "Ausgabe_BFGS_f_1_f_werte=Ausgabe_BFGS_f_1.fun\n",
    "\n",
    "#Ausgabe f_2\n",
    "Ausgabe_BFGS_f_2=minimizer_BFGS_f_2\n",
    "Ausgabe_BFGS_f_2_x_wert= str(Ausgabe_BFGS_f_2.x).strip('[]')\n",
    "Ausgabe_BFGS_f_2_f_werte=Ausgabe_BFGS_f_2.fun\n",
    "\n",
    "print(f'Minimierung der Funktion f_1(x) mithilfe von \"BFGS\"-Algrithmus: Optimum bei x={Ausgabe_BFGS_f_1_x_wert} und dem Funktionswert f(x)={Ausgabe_BFGS_f_1.fun}' )\n",
    "print(f'Minimierung der Funktion f_2(x) mithilfe von \"BFGS\"-Algrithmus: Optimum beix={Ausgabe_BFGS_f_2_x_wert} und dem Funktionswert f(x)={Ausgabe_BFGS_f_2.fun}' )\n",
    "\n",
    "'''\n",
    "Erklärungsabschnitt zum eigenen Verständnis über BFGS:\n",
    "BFGS nutzt 2.Ableitung, um Optimum zu finden --> Mithilfe von Inverser Hesse-Matrix --> (n x n) - Näherungen gespeichert mit n=Anzahl Variablen  , Line-Search in bestimmte Richtung \n",
    "'''\n",
    "\n",
    "#Minimierung mithilfe von \"L-BFGS-B\"\n",
    "minimizer_L_BFGS_B_f_1= optimize.minimize(f_1,x_0,method='L-BFGS-B')  #Startwert x_0\n",
    "minimizer_L_BFGS_B_f_2= optimize.minimize(f_2,x_0,method='L-BFGS-B')  #Startwert x_0\n",
    "#Ausgabe\n",
    "Ausgabe_L_BFGS_f_1=minimizer_L_BFGS_B_f_1\n",
    "Ausgabe_L_BFGS_f_1_x_wert= str(Ausgabe_L_BFGS_f_1.x).strip('[]')\n",
    "Ausgabe_L_BFGS_f_2=minimizer_L_BFGS_B_f_2\n",
    "Ausgabe_L_BFGS_f_2_x_wert= str(Ausgabe_L_BFGS_f_2.x).strip('[]')\n",
    "\n",
    "print(f'Minimierung der Funktion f_1(x) mithilfe von \"L-BFGS-B\"-Algrithmus: Optimum bei x={Ausgabe_L_BFGS_f_1_x_wert} und dem Funktionswert f(x)={Ausgabe_L_BFGS_f_1.fun}' )\n",
    "print(f'Minimierung der Funktion f_2(x) mithilfe von \"L-BFGS-B\"-Algrithmus: Optimum bei x={Ausgabe_L_BFGS_f_2_x_wert} und dem Funktionswert f(x)={Ausgabe_L_BFGS_f_2.fun}' ) #Wert unterschiedlich ?\n",
    "\n",
    "\n",
    "\n",
    "\n",
    "#Erklärungsabschnitt zum eigenen Verständnis über L-BFGS-B:\n",
    "#Limited-memory BFGS: Analog zu BFGS --> Mithilfe von Inverser Hesse-Matrix --> Nur wenige Vektoren gespeichert --> Linearer Speicher\n"
   ]
  },
  {
   "cell_type": "markdown",
   "metadata": {},
   "source": [
    "$$\\textbf{Erklärung}$$\n",
    "\n",
    "Brent-Algorithmus ist zur Bestimmung der Nullstelle, mithilfe einer Bisektion (Iterationssverfahren).\n",
    "\n",
    "BFGS ist ein Abstiegsverfahren, welches die 2.Ableitungen nutzt, um ein Optimum zu finden. Dabei wird die inverse Hesse-Matrix gelöst, um eine initalen Start zu ermöglichen. $\\\\$\n",
    "L-BFGS-B ist ein Speicher limitierder Algorithmus basierend auf BFGS, sodass dieser ein unterschiedliches Ergebniss produzieren kann. So ist die Minimierung von Funktion f_1(x) fast gleich, jedoch nicht für Funktion f_2(x). "
   ]
  },
  {
   "cell_type": "code",
   "execution_count": null,
   "metadata": {},
   "outputs": [],
   "source": [
    "'Erstellung von Plots'\n",
    "\n",
    "#Umformung wegen Decimal Problem\n",
    "kk= Ausgabe_BFGS_f_1_x_wert\n",
    "jj=Ausgabe_L_BFGS_f_1.fun\n",
    "print(kk, jj)\n",
    "\n",
    "fig, (ax1,ax2) = plt.subplots(2,1, layout= \"constrained\")\n",
    "#Graph für Funktion f_1(x)\n",
    "\n",
    "ax1.set_title(\"Funktion f$_{1}$(x)\")\n",
    "ax1.set_xlabel(\"x\")\n",
    "ax1.set_ylabel(\"f(x)\")\n",
    "ax1.plot(x, f_1(x), label=r\"$(x+5)^{2}$\");\n",
    "ax1.plot(minimizer_brent_f_1[0],minimizer_brent_f_1[1],\"o\",label=r\"$Brent$\");  #Minimum des Brent-Algorithmus \n",
    "ax1.legend()\n",
    "\n",
    "#Graph für Funktion f_2(x)\n",
    "ax2.set_title(\"Funktion f$_{2}$(x)\")\n",
    "ax2.set_xlabel(\"x\")\n",
    "ax2.set_ylabel(\"f(x)\")\n",
    "ax2.plot(x, f_2(x), label=r\"$(x+3)^{2} - 5\\cos(5x)$\");\n",
    "ax2.plot(minimizer_brent_f_2[0],minimizer_brent_f_2[1],\"o\",label=r\"$Brent$\"); #Minimum des Brent-Algorithmus \n",
    "ax2.legend()\n",
    "plt.show()"
   ]
  },
  {
   "cell_type": "markdown",
   "metadata": {},
   "source": [
    "Aktuelle Fragen/Aufgaben:\n",
    "- Muss Wertebereich von x unendlich/größer sein? Aktuell nur 50x Werte\n",
    "- Bei Brent : was muss in Brack stehen ? Wie bekommen ich den Startwert von x_0 rein?\n",
    "- Bei L-BFGS-B: Wert für Funktion f_2 deutlich anders ? --> Sinnvoll wahrscheinlich\n",
    "- Plot der Optimierungsresultate: Nachkommastellen sorgen für Probleme im Plot, deswegen Werte gerundet"
   ]
  },
  {
   "cell_type": "code",
   "execution_count": null,
   "metadata": {},
   "outputs": [],
   "source": [
    "from matplotlib import ticker \n",
    "\n",
    "#Werte für BFGS und L_BFGS-B als int abspeichern (dabei leider gerundet):\n",
    "x_BFGS_f_1_round= int(float(Ausgabe_BFGS_f_1_x_wert))\n",
    "f_BFGS_f_1_round=int(float(Ausgabe_L_BFGS_f_1.fun))\n",
    "\n",
    "x_BFGS_f_2_round= int(float(Ausgabe_BFGS_f_2_x_wert))\n",
    "f_BFGS_f_2_round=int(float(Ausgabe_BFGS_f_2.fun))\n",
    "\n",
    "x_L_BFGS_f_1_round= int(float(Ausgabe_L_BFGS_f_1_x_wert))\n",
    "f_L_BFGS_f_1_round=int(float(Ausgabe_L_BFGS_f_1.fun))\n",
    "\n",
    "x_L_BFGS_f_2_round= int(float(Ausgabe_L_BFGS_f_2_x_wert))\n",
    "f_L_BFGS_f_2_round=int(float(Ausgabe_L_BFGS_f_2.fun))\n",
    "\n",
    "\n",
    "fig, (ax1,ax2) = plt.subplots(2,1, layout= \"constrained\")\n",
    "#Graph für Funktion f_1(x)\n",
    "\n",
    "ax1.set_title(\"Funktion f$_{1}$(x)\")\n",
    "ax1.set_xlabel(\"x\")\n",
    "ax1.set_ylabel(\"f(x)\")\n",
    "#setup(ax1, title=\"StrMethodFormatter('{x:.3f}')\")\n",
    "ax1.xaxis.set_major_formatter(ticker.StrMethodFormatter(\"{x:.4f}\"))\n",
    "ax1.plot(x, f_1(x), label=r\"$(x+5)^{2}$\");\n",
    "ax1.plot(minimizer_brent_f_1[0],minimizer_brent_f_1[1],\"o\",label=r\"$Brent$\");  #Minimum des Brent-Algorithmus \n",
    "ax1.plot(x_BFGS_f_1_round,f_BFGS_f_1_round ,\"o\" ,label=r\"$BFGS$\")              #Minimum des BFGS-Algorithmus \n",
    "ax1.plot(x_L_BFGS_f_1_round,f_L_BFGS_f_1_round,\"o\" ,label=r\"$L-BFGS-B$\")       #Minimum des L-BFGS-B-Algorithmus \n",
    "ax1.legend()\n",
    "\n",
    "#Graph für Funktion f_2(x)\n",
    "ax2.set_title(\"Funktion f$_{2}$(x)\")\n",
    "ax2.set_xlabel(\"x\")\n",
    "ax2.set_ylabel(\"f(x)\")\n",
    "ax2.plot(x, f_2(x), label=r\"$(x+3)^{2} - 5\\cos(5x)$\");\n",
    "ax2.plot(minimizer_brent_f_2[0],minimizer_brent_f_2[1],\"o\",label=r\"$Brent$\");   #Minimum des Brent-Algorithmus \n",
    "ax2.plot(x_BFGS_f_2_round,f_BFGS_f_2_round ,\"o\" ,label=r\"$BFGS$\")               #Minimum des BFGS-Algorithmus \n",
    "ax2.plot(x_L_BFGS_f_2_round,f_L_BFGS_f_2_round,\"o\" ,label=r\"$L-BFGS-B$\")        #Minimum des L-BFGS-B-Algorithmus \n",
    "ax2.legend()\n",
    "plt.show()"
   ]
  },
  {
   "cell_type": "markdown",
   "metadata": {},
   "source": [
    "$$\\textbf{Aufgabe 2.2}$$\n"
   ]
  },
  {
   "cell_type": "markdown",
   "metadata": {},
   "source": [
    "Informationen \n",
    "x = x-Wert , Start x_start\n",
    "s = Schrittweite , Start s_start\n",
    "k = Iterationszahl (iters)\n",
    "theta = Faktor zwischen (0,1) --> s(k+1)=theta * s(k)  :\n",
    "d = Richtung mit : Es existiert mindestens ein d aus D\n",
    "D = Einheitsvektoren (positiv/negativ) für n Dimensionen"
   ]
  },
  {
   "cell_type": "code",
   "execution_count": null,
   "metadata": {},
   "outputs": [],
   "source": [
    "'Funktionen definieren'\n",
    "\n",
    "def f_a(x):\n",
    "    return (x+5)**2\n",
    "\n",
    "def f_b(x):\n",
    "    return (x+3)**2 - 5*cos(5*x)\n",
    "\n",
    "def f_c(x,y):\n",
    "    return x**2 + y**2 \n",
    "\n",
    "def f_d(x,y):\n",
    "    return x*sin(x) + 3*y**2\n"
   ]
  },
  {
   "cell_type": "code",
   "execution_count": null,
   "metadata": {},
   "outputs": [],
   "source": [
    "'Kompass Suche'\n",
    "#Variablen initiieren \n",
    "x=np.linspace(-10,10)\n",
    "x_start=np.linspace(3,9)\n",
    "y=np.linspace(-10,10)\n",
    "y_start=np.linspace(3,9)\n",
    "s_start=np.linspace(0.5,4)\n",
    "theta=np.linspace(0.3,0.8)\n",
    "\n",
    "D=np.array()\n",
    "\n",
    "'Definiert Kompasssuche'\n",
    "def kompassuche(x,s,k,d):\n",
    "    k=0\n",
    "    for k in range(0,21):\n",
    "        if k=0: #Problem der Startwerte\n",
    "            if f(x_start + s_start * d)< f(x_start):\n",
    "                x**(1)= x_start + s_start * d\n",
    "            else:\n",
    "                x**(1)=x_start\n",
    "                s**(1)=theta*s_start\n",
    "        \n",
    "        else:\n",
    "            if f(x**k + s**k * d)< f(x**k):\n",
    "                x**(k+1) = x**k + s**k *d\n",
    "                #Abspeichern pro Iterationsschritt\n",
    "                x_k=np.array(x**(k+1))\n",
    "                s_k=np.array(s**k)\n",
    "\n",
    "            else:\n",
    "                x**(k+1) = x**k\n",
    "                s**(k+1) = theta*s**k\n",
    "                #Abspeichern pro Iterationsschritt\n",
    "                x_k=np.array(x**(k+1))\n",
    "                s_k=np.array(s**k)    \n",
    "    f_k=np.array(f(x**k + s**k * d)) #Abspeichern pro Iterationsschritt\n",
    "    k+=1\n"
   ]
  },
  {
   "cell_type": "code",
   "execution_count": null,
   "metadata": {},
   "outputs": [],
   "source": [
    "k=0\n",
    "x=5\n",
    "3 = x**0\n",
    "for k in range(5):\n",
    "    print(x**k)\n",
    "    k+=1\n",
    "\n"
   ]
  },
  {
   "cell_type": "markdown",
   "metadata": {},
   "source": [
    "Probleme / Aufgaben:\n",
    "\n",
    "- Für k=0 soll Start-Wert von x und s genutzt werden, nicht x**0= 1\n",
    "    Vllt Schleife erst bei 1 starten lassen\n",
    "- Abspeichern der einzelnen Iterationsschritte richtig so ?\n",
    "- Definieren der Einheitsvektoren für n-Dimensionen\n",
    "- Einbinden von D \n",
    "- Es gibt für das nächste Blatt bereits eine fertige Kompasssuche aber chiffriert, versuche die gerade zu verstehen (testkompass.ipynb)"
   ]
  },
  {
   "cell_type": "code",
   "execution_count": null,
   "metadata": {},
   "outputs": [],
   "source": []
  }
 ],
 "metadata": {
  "kernelspec": {
   "display_name": "Python 3 (ipykernel)",
   "language": "python",
   "name": "python3"
  },
  "language_info": {
   "codemirror_mode": {
    "name": "ipython",
    "version": 3
   },
   "file_extension": ".py",
   "mimetype": "text/x-python",
   "name": "python",
   "nbconvert_exporter": "python",
   "pygments_lexer": "ipython3",
   "version": "3.10.12"
  }
 },
 "nbformat": 4,
 "nbformat_minor": 4
}
