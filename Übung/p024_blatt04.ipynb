{
 "cells": [
  {
   "cell_type": "markdown",
   "metadata": {},
   "source": [
    "$$\\textbf{Blatt 04 - Praktische Optimierung - Adrian Lentz, Robert}$$\n",
    "\n",
    "Lösungen und Erklärungen für Blatt 04. $$\\newline$$\n",
    "Adrian Lentz - Matrikelnummer: 258882 $$\\newline$$\n",
    "Robert Schönewald - Matrikelnummer: 188252"
   ]
  },
  {
   "cell_type": "markdown",
   "metadata": {},
   "source": [
    "$$\\textbf{Aufgabe 4.2}$$\n"
   ]
  },
  {
   "cell_type": "code",
   "execution_count": 1,
   "metadata": {},
   "outputs": [],
   "source": [
    "import numpy as np\n",
    "from kompasssuche import kompasssuche\n",
    "import timeit\n",
    "import matplotlib.pyplot as plt\n",
    "import scipy\n",
    "import statsmodels.api as sm\n",
    "import statsmodels.distributions.empirical_distribution as edf"
   ]
  },
  {
   "cell_type": "code",
   "execution_count": 2,
   "metadata": {},
   "outputs": [],
   "source": [
    "'Funktion definieren'\n",
    "\n",
    "def f(x):\n",
    "    return x[0]**2 + x[1]**2 + (21*np.sin(x[0])*np.cos(x[1])) + 2*(np.absolute(x[0])**2 + np.absolute(x[1])**2) + 0.25*x[1]"
   ]
  },
  {
   "cell_type": "code",
   "execution_count": 3,
   "metadata": {},
   "outputs": [],
   "source": [
    "start=np.stack((np.random.uniform(-10,10,100),np.random.uniform(-10,10,100)),axis=1)"
   ]
  },
  {
   "cell_type": "code",
   "execution_count": 4,
   "metadata": {},
   "outputs": [],
   "source": [
    "def multistartbfgs(fun,startp):\n",
    "    k=0\n",
    "    x0=startp[0]\n",
    "    f0=fun(x0)\n",
    "    for x in startp:\n",
    "        x1=scipy.optimize.minimize(fun,x,method='BFGS').x\n",
    "        if fun(x1)<f0:\n",
    "            x0=x1\n",
    "            f0=fun(x1)\n",
    "    return (x0,f0)"
   ]
  },
  {
   "cell_type": "code",
   "execution_count": 5,
   "metadata": {},
   "outputs": [],
   "source": [
    "def multistartlbfgsb(fun,startp):\n",
    "    k=0\n",
    "    x0=startp[0]\n",
    "    f0=fun(x0)\n",
    "    for x in startp:\n",
    "        x1=scipy.optimize.minimize(fun,x,method='L-BFGS-B').x\n",
    "        if fun(x1)<f0:\n",
    "            x0=x1\n",
    "            f0=fun(x1)\n",
    "    return (x0,f0)"
   ]
  },
  {
   "cell_type": "code",
   "execution_count": 6,
   "metadata": {},
   "outputs": [],
   "source": [
    "def multistartkompass(fun,startp):\n",
    "    k=0\n",
    "    x0=startp[0]\n",
    "    f0=fun(x0)\n",
    "    for x in startp:\n",
    "        x1=kompasssuche(fun,x)['x']\n",
    "        f1=kompasssuche(fun,x)['fx']\n",
    "        if f1<f0:\n",
    "            x0=x1\n",
    "            f0=f1\n",
    "    return (x0,f0)"
   ]
  },
  {
   "cell_type": "code",
   "execution_count": 20,
   "metadata": {},
   "outputs": [
    {
     "name": "stdout",
     "output_type": "stream",
     "text": [
      "BFGS:\n",
      "x*:  -1.22 -0.01 f(x*):  -15.26\n",
      "L-BFGS-B:\n",
      "x*:  -1.22 -0.01 f(x*):  -15.26\n",
      "Kompasssuche:\n",
      "x*:  -1.22 -0.01 f(x*):  -15.26\n"
     ]
    }
   ],
   "source": [
    "print('BFGS:')\n",
    "print('x*: ',end=' ')      \n",
    "print(round(multistartbfgs(f,start)[0][0],2), end=' ')\n",
    "print(round(multistartbfgs(f,start)[0][1],2), end=' ')\n",
    "print('f(x*): ',end=' ')      \n",
    "print(round(multistartbfgs(f,start)[1],2))\n",
    "print('L-BFGS-B:')\n",
    "print('x*: ',end=' ')      \n",
    "print(round(multistartlbfgsb(f,start)[0][0],2), end=' ')\n",
    "print(round(multistartlbfgsb(f,start)[0][1],2), end=' ')\n",
    "print('f(x*): ',end=' ')      \n",
    "print(round(multistartlbfgsb(f,start)[1],2))\n",
    "print('Kompasssuche:')\n",
    "print('x*: ',end=' ')      \n",
    "print(round(multistartkompass(f,start)[0][0],2), end=' ')\n",
    "print(round(multistartkompass(f,start)[0][1],2), end=' ')\n",
    "print('f(x*): ',end=' ')      \n",
    "print(round(multistartkompass(f,start)[1],2))"
   ]
  },
  {
   "cell_type": "markdown",
   "metadata": {},
   "source": [
    "Zwischen den Algorithmen gibt es keine Unterschiede bei den gefundenen Optima."
   ]
  },
  {
   "cell_type": "code",
   "execution_count": null,
   "metadata": {},
   "outputs": [],
   "source": []
  }
 ],
 "metadata": {
  "kernelspec": {
   "display_name": "Python 3 (ipykernel)",
   "language": "python",
   "name": "python3"
  },
  "language_info": {
   "codemirror_mode": {
    "name": "ipython",
    "version": 3
   },
   "file_extension": ".py",
   "mimetype": "text/x-python",
   "name": "python",
   "nbconvert_exporter": "python",
   "pygments_lexer": "ipython3",
   "version": "3.11.7"
  }
 },
 "nbformat": 4,
 "nbformat_minor": 4
}
