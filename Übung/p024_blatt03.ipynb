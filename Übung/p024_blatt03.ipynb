{
 "cells": [
  {
   "cell_type": "markdown",
   "metadata": {},
   "source": [
    "$$\\textbf{Blatt 03 - Praktische Optimierung - Adrian Lentz, Robert}$$\n",
    "\n",
    "Lösungen und Erklärungen für Blatt 03. $$\\newline$$\n",
    "Adrian Lentz - Matrikelnummer: 258882 $$\\newline$$\n",
    "Robert Schönewald - Matrikelnummer: 188252"
   ]
  },
  {
   "cell_type": "markdown",
   "metadata": {},
   "source": [
    "$$\\textbf{Aufgabe 3.1}$$\n"
   ]
  },
  {
   "cell_type": "code",
   "execution_count": 82,
   "metadata": {},
   "outputs": [],
   "source": [
    "import numpy as np\n",
    "import kompasssuche_test as kompasssuche_test"
   ]
  },
  {
   "cell_type": "code",
   "execution_count": 90,
   "metadata": {},
   "outputs": [],
   "source": [
    "'Funktion definieren'\n",
    "\n",
    "def f_a(x,y):\n",
    "    return x**2+y**2\n"
   ]
  },
  {
   "cell_type": "code",
   "execution_count": 84,
   "metadata": {},
   "outputs": [],
   "source": [
    "np.random.seed(1)\n",
    "stichprobe= random_points = np.random.uniform(-10, 10, (500, 2))\n",
    "\n"
   ]
  },
  {
   "cell_type": "code",
   "execution_count": 85,
   "metadata": {},
   "outputs": [],
   "source": [
    "'Parametereinstellungen'\n",
    "\n",
    "parameter = [\n",
    "    (1.0, 0.5),\n",
    "    (2.0, 0.5),\n",
    "    (1.5, 0.8),\n",
    "    (0.5, 0.2)\n",
    "]"
   ]
  },
  {
   "cell_type": "code",
   "execution_count": 91,
   "metadata": {},
   "outputs": [
    {
     "ename": "TypeError",
     "evalue": "f_a() missing 1 required positional argument: 'y'",
     "output_type": "error",
     "traceback": [
      "\u001b[1;31m---------------------------------------------------------------------------\u001b[0m",
      "\u001b[1;31mTypeError\u001b[0m                                 Traceback (most recent call last)",
      "Cell \u001b[1;32mIn[91], line 5\u001b[0m\n\u001b[0;32m      3\u001b[0m iteration_counts \u001b[38;5;241m=\u001b[39m []\n\u001b[0;32m      4\u001b[0m \u001b[38;5;28;01mfor\u001b[39;00m x0 \u001b[38;5;129;01min\u001b[39;00m stichprobe:\n\u001b[1;32m----> 5\u001b[0m     iterations \u001b[38;5;241m=\u001b[39m \u001b[43mkompasssuche_test\u001b[49m\u001b[38;5;241;43m.\u001b[39;49m\u001b[43mkompasssuche_test\u001b[49m\u001b[43m(\u001b[49m\u001b[43mf_a\u001b[49m\u001b[43m,\u001b[49m\u001b[43m \u001b[49m\u001b[43mx0\u001b[49m\u001b[43m,\u001b[49m\u001b[43m \u001b[49m\u001b[43ms0\u001b[49m\u001b[43m,\u001b[49m\u001b[43m \u001b[49m\u001b[43mtheta\u001b[49m\u001b[43m)\u001b[49m\n\u001b[0;32m      6\u001b[0m     iteration_counts\u001b[38;5;241m.\u001b[39mappend(iterations)\n\u001b[0;32m      7\u001b[0m results\u001b[38;5;241m.\u001b[39mappend(iteration_counts)\n",
      "File \u001b[1;32mc:\\Users\\Adria\\Desktop\\Master Medizinphysik\\Statistical Data\\Praktische-Optimierung\\Übung\\kompasssuche_test.py:19\u001b[0m, in \u001b[0;36mkompasssuche_test\u001b[1;34m(O000OOO0000000O0O, OO00O00O0000O0OO0, OO00OOO0OOOO0O000, O00O000000OOO000O)\u001b[0m\n\u001b[0;32m     17\u001b[0m OO000OOOOOOOOO0OO \u001b[38;5;241m=\u001b[39mnp \u001b[38;5;241m.\u001b[39mconcatenate ((np \u001b[38;5;241m.\u001b[39midentity (\u001b[38;5;28mlen\u001b[39m (OO00O00O0000O0OO0 )),\u001b[38;5;241m-\u001b[39mnp \u001b[38;5;241m.\u001b[39midentity (\u001b[38;5;28mlen\u001b[39m (OO00O00O0000O0OO0 ))),axis \u001b[38;5;241m=\u001b[39m\u001b[38;5;241m1\u001b[39m )\u001b[38;5;66;03m#line:18\u001b[39;00m\n\u001b[0;32m     18\u001b[0m OOO0O0O000O000OOO \u001b[38;5;241m=\u001b[39m\u001b[38;5;241m1\u001b[39m \u001b[38;5;66;03m#line:21\u001b[39;00m\n\u001b[1;32m---> 19\u001b[0m O000000OOOOOOO000 \u001b[38;5;241m=\u001b[39m\u001b[43mO000OOO0000000O0O\u001b[49m\u001b[43m \u001b[49m\u001b[43m(\u001b[49m\u001b[43mOO00O00O0000O0OO0\u001b[49m\u001b[43m \u001b[49m\u001b[43m)\u001b[49m\u001b[38;5;66;03m#line:23\u001b[39;00m\n\u001b[0;32m     20\u001b[0m \u001b[38;5;28;01mwhile\u001b[39;00m (O000000OOOOOOO000 \u001b[38;5;241m>\u001b[39mO0O0OOOOOO00O0OO0 \u001b[38;5;241m+\u001b[39mOO0OOOO0O0O000OO0 ):\u001b[38;5;66;03m#line:26\u001b[39;00m\n\u001b[0;32m     21\u001b[0m     O00OOOO0OO000O0OO \u001b[38;5;241m=\u001b[39m\u001b[38;5;28;01mFalse\u001b[39;00m \u001b[38;5;66;03m#line:28\u001b[39;00m\n",
      "\u001b[1;31mTypeError\u001b[0m: f_a() missing 1 required positional argument: 'y'"
     ]
    }
   ],
   "source": [
    "results = []\n",
    "for s0, theta in parameter:\n",
    "    iteration_counts = []\n",
    "    for x0 in stichprobe:\n",
    "        iterations = kompasssuche_test.kompasssuche_test(f_a, x0, s0, theta)\n",
    "        iteration_counts.append(iterations)\n",
    "    results.append(iteration_counts)"
   ]
  }
 ],
 "metadata": {
  "kernelspec": {
   "display_name": "Python 3",
   "language": "python",
   "name": "python3"
  },
  "language_info": {
   "codemirror_mode": {
    "name": "ipython",
    "version": 3
   },
   "file_extension": ".py",
   "mimetype": "text/x-python",
   "name": "python",
   "nbconvert_exporter": "python",
   "pygments_lexer": "ipython3",
   "version": "3.12.2"
  }
 },
 "nbformat": 4,
 "nbformat_minor": 2
}
