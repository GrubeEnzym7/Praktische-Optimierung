{
 "cells": [
  {
   "cell_type": "markdown",
   "metadata": {},
   "source": [
    "$$\\textbf{Blatt 03 - Praktische Optimierung - Adrian Lentz, Robert}$$\n",
    "\n",
    "Lösungen und Erklärungen für Blatt 03. $$\\newline$$\n",
    "Adrian Lentz - Matrikelnummer: 258882 $$\\newline$$\n",
    "Robert Schönewald - Matrikelnummer: 188252"
   ]
  },
  {
   "cell_type": "markdown",
   "metadata": {},
   "source": [
    "$$\\textbf{Aufgabe 3.1}$$\n"
   ]
  },
  {
   "cell_type": "code",
   "execution_count": 1,
   "metadata": {},
   "outputs": [
    {
     "ename": "ModuleNotFoundError",
     "evalue": "No module named 'kompasssuche_test'",
     "output_type": "error",
     "traceback": [
      "\u001b[1;31m---------------------------------------------------------------------------\u001b[0m",
      "\u001b[1;31mModuleNotFoundError\u001b[0m                       Traceback (most recent call last)",
      "Cell \u001b[1;32mIn[1], line 2\u001b[0m\n\u001b[0;32m      1\u001b[0m \u001b[38;5;28;01mimport\u001b[39;00m \u001b[38;5;21;01mnumpy\u001b[39;00m \u001b[38;5;28;01mas\u001b[39;00m \u001b[38;5;21;01mnp\u001b[39;00m\n\u001b[1;32m----> 2\u001b[0m \u001b[38;5;28;01mimport\u001b[39;00m \u001b[38;5;21;01mkompasssuche_test\u001b[39;00m \u001b[38;5;28;01mas\u001b[39;00m \u001b[38;5;21;01mkompasssuche_test\u001b[39;00m\n\u001b[0;32m      3\u001b[0m \u001b[38;5;28;01mimport\u001b[39;00m \u001b[38;5;21;01mkompasssuche_test_rename\u001b[39;00m \u001b[38;5;28;01mas\u001b[39;00m \u001b[38;5;21;01mkompasssuche_test_2\u001b[39;00m\n\u001b[0;32m      4\u001b[0m \u001b[38;5;28;01mimport\u001b[39;00m \u001b[38;5;21;01mtimeit\u001b[39;00m\n",
      "\u001b[1;31mModuleNotFoundError\u001b[0m: No module named 'kompasssuche_test'"
     ]
    }
   ],
   "source": [
    "import numpy as np\n",
    "import kompasssuche_test as kompasssuche_test\n",
    "import kompasssuche_test_rename as kompasssuche_test_2\n",
    "import timeit"
   ]
  },
  {
   "cell_type": "code",
   "execution_count": null,
   "metadata": {},
   "outputs": [],
   "source": [
    "'Funktion definieren'\n",
    "\n",
    "def f_a(x,y):\n",
    "    return x**2 + y**2\n"
   ]
  },
  {
   "cell_type": "code",
   "execution_count": null,
   "metadata": {},
   "outputs": [],
   "source": [
    "np.random.seed(1)\n",
    "stichprobe= random_points = np.random.uniform(-10, 10, (500, 2))\n",
    "\n"
   ]
  },
  {
   "cell_type": "code",
   "execution_count": null,
   "metadata": {},
   "outputs": [],
   "source": [
    "'Parametereinstellungen'\n",
    "\n",
    "parameter = [\n",
    "    (1.0, 0.5),\n",
    "    (2.0, 0.5),\n",
    "    (1.5, 0.8),\n",
    "    (0.5, 0.2)\n",
    "]"
   ]
  },
  {
   "cell_type": "code",
   "execution_count": null,
   "metadata": {},
   "outputs": [],
   "source": [
    "'Abspeichern der Zeiten'\n",
    "for i in range(len(parameter)):\n",
    "    zeiten = {i : []}\n",
    "\n",
    "'Zeitmessung - Definition'\n",
    "def zeitmessung(f_a,x0,s0,theta):\n",
    "    zeit= lambda:kompasssuche_test_2.kompasssuche_test(f_a,x0,s0,theta)   #Lambda Funktion ersparrt definieren von zeit über funktion der Kompassuche\n",
    "    return timeit.timeit(zeit,number=1)                                 #timeit.timeit gibt Messung der Laufzeit wieder\n",
    "\n",
    "\n"
   ]
  },
  {
   "cell_type": "code",
   "execution_count": null,
   "metadata": {},
   "outputs": [
    {
     "ename": "TypeError",
     "evalue": "f_a() missing 1 required positional argument: 'y'",
     "output_type": "error",
     "traceback": [
      "\u001b[1;31m---------------------------------------------------------------------------\u001b[0m",
      "\u001b[1;31mTypeError\u001b[0m                                 Traceback (most recent call last)",
      "Cell \u001b[1;32mIn[47], line 6\u001b[0m\n\u001b[0;32m      4\u001b[0m \u001b[38;5;28;01mfor\u001b[39;00m x0 \u001b[38;5;129;01min\u001b[39;00m stichprobe:\n\u001b[0;32m      5\u001b[0m     \u001b[38;5;28;01mfor\u001b[39;00m j \u001b[38;5;129;01min\u001b[39;00m \u001b[38;5;28mrange\u001b[39m(\u001b[38;5;241m100\u001b[39m):  \u001b[38;5;66;03m#Messung 100mal wiederholen\u001b[39;00m\n\u001b[1;32m----> 6\u001b[0m         times \u001b[38;5;241m=\u001b[39m [\u001b[43mzeitmessung\u001b[49m\u001b[43m(\u001b[49m\u001b[43mf_a\u001b[49m\u001b[43m,\u001b[49m\u001b[43m \u001b[49m\u001b[43mx0\u001b[49m\u001b[43m,\u001b[49m\u001b[43m \u001b[49m\u001b[43ms0\u001b[49m\u001b[43m,\u001b[49m\u001b[43m \u001b[49m\u001b[43mtheta\u001b[49m\u001b[43m)\u001b[49m]\n\u001b[0;32m      7\u001b[0m     median_time \u001b[38;5;241m=\u001b[39m np\u001b[38;5;241m.\u001b[39mmedian(times)  \u001b[38;5;66;03m#Mittelwerte der Zeiten\u001b[39;00m\n\u001b[0;32m      8\u001b[0m     zeiten[i]\u001b[38;5;241m.\u001b[39mappend(median_time)\n",
      "Cell \u001b[1;32mIn[45], line 8\u001b[0m, in \u001b[0;36mzeitmessung\u001b[1;34m(f_a, x0, s0, theta)\u001b[0m\n\u001b[0;32m      6\u001b[0m \u001b[38;5;28;01mdef\u001b[39;00m \u001b[38;5;21mzeitmessung\u001b[39m(f_a,x0,s0,theta):\n\u001b[0;32m      7\u001b[0m     zeit\u001b[38;5;241m=\u001b[39m \u001b[38;5;28;01mlambda\u001b[39;00m:kompasssuche_test_2\u001b[38;5;241m.\u001b[39mkompasssuche_test(f_a,x0,s0,theta)   \u001b[38;5;66;03m#Lambda Funktion ersparrt definieren von zeit über funktion der Kompassuche\u001b[39;00m\n\u001b[1;32m----> 8\u001b[0m     \u001b[38;5;28;01mreturn\u001b[39;00m \u001b[43mtimeit\u001b[49m\u001b[38;5;241;43m.\u001b[39;49m\u001b[43mtimeit\u001b[49m\u001b[43m(\u001b[49m\u001b[43mzeit\u001b[49m\u001b[43m,\u001b[49m\u001b[43mnumber\u001b[49m\u001b[38;5;241;43m=\u001b[39;49m\u001b[38;5;241;43m1\u001b[39;49m\u001b[43m)\u001b[49m\n",
      "File \u001b[1;32mc:\\Users\\Adria\\AppData\\Local\\Programs\\Python\\Python312\\Lib\\timeit.py:237\u001b[0m, in \u001b[0;36mtimeit\u001b[1;34m(stmt, setup, timer, number, globals)\u001b[0m\n\u001b[0;32m    234\u001b[0m \u001b[38;5;28;01mdef\u001b[39;00m \u001b[38;5;21mtimeit\u001b[39m(stmt\u001b[38;5;241m=\u001b[39m\u001b[38;5;124m\"\u001b[39m\u001b[38;5;124mpass\u001b[39m\u001b[38;5;124m\"\u001b[39m, setup\u001b[38;5;241m=\u001b[39m\u001b[38;5;124m\"\u001b[39m\u001b[38;5;124mpass\u001b[39m\u001b[38;5;124m\"\u001b[39m, timer\u001b[38;5;241m=\u001b[39mdefault_timer,\n\u001b[0;32m    235\u001b[0m            number\u001b[38;5;241m=\u001b[39mdefault_number, \u001b[38;5;28mglobals\u001b[39m\u001b[38;5;241m=\u001b[39m\u001b[38;5;28;01mNone\u001b[39;00m):\n\u001b[0;32m    236\u001b[0m \u001b[38;5;250m    \u001b[39m\u001b[38;5;124;03m\"\"\"Convenience function to create Timer object and call timeit method.\"\"\"\u001b[39;00m\n\u001b[1;32m--> 237\u001b[0m     \u001b[38;5;28;01mreturn\u001b[39;00m \u001b[43mTimer\u001b[49m\u001b[43m(\u001b[49m\u001b[43mstmt\u001b[49m\u001b[43m,\u001b[49m\u001b[43m \u001b[49m\u001b[43msetup\u001b[49m\u001b[43m,\u001b[49m\u001b[43m \u001b[49m\u001b[43mtimer\u001b[49m\u001b[43m,\u001b[49m\u001b[43m \u001b[49m\u001b[38;5;28;43mglobals\u001b[39;49m\u001b[43m)\u001b[49m\u001b[38;5;241;43m.\u001b[39;49m\u001b[43mtimeit\u001b[49m\u001b[43m(\u001b[49m\u001b[43mnumber\u001b[49m\u001b[43m)\u001b[49m\n",
      "File \u001b[1;32mc:\\Users\\Adria\\AppData\\Local\\Programs\\Python\\Python312\\Lib\\timeit.py:180\u001b[0m, in \u001b[0;36mTimer.timeit\u001b[1;34m(self, number)\u001b[0m\n\u001b[0;32m    178\u001b[0m gc\u001b[38;5;241m.\u001b[39mdisable()\n\u001b[0;32m    179\u001b[0m \u001b[38;5;28;01mtry\u001b[39;00m:\n\u001b[1;32m--> 180\u001b[0m     timing \u001b[38;5;241m=\u001b[39m \u001b[38;5;28;43mself\u001b[39;49m\u001b[38;5;241;43m.\u001b[39;49m\u001b[43minner\u001b[49m\u001b[43m(\u001b[49m\u001b[43mit\u001b[49m\u001b[43m,\u001b[49m\u001b[43m \u001b[49m\u001b[38;5;28;43mself\u001b[39;49m\u001b[38;5;241;43m.\u001b[39;49m\u001b[43mtimer\u001b[49m\u001b[43m)\u001b[49m\n\u001b[0;32m    181\u001b[0m \u001b[38;5;28;01mfinally\u001b[39;00m:\n\u001b[0;32m    182\u001b[0m     \u001b[38;5;28;01mif\u001b[39;00m gcold:\n",
      "File \u001b[1;32m<timeit-src>:6\u001b[0m, in \u001b[0;36minner\u001b[1;34m(_it, _timer, _stmt)\u001b[0m\n",
      "Cell \u001b[1;32mIn[45], line 7\u001b[0m, in \u001b[0;36mzeitmessung.<locals>.<lambda>\u001b[1;34m()\u001b[0m\n\u001b[0;32m      6\u001b[0m \u001b[38;5;28;01mdef\u001b[39;00m \u001b[38;5;21mzeitmessung\u001b[39m(f_a,x0,s0,theta):\n\u001b[1;32m----> 7\u001b[0m     zeit\u001b[38;5;241m=\u001b[39m \u001b[38;5;28;01mlambda\u001b[39;00m:\u001b[43mkompasssuche_test_2\u001b[49m\u001b[38;5;241;43m.\u001b[39;49m\u001b[43mkompasssuche_test\u001b[49m\u001b[43m(\u001b[49m\u001b[43mf_a\u001b[49m\u001b[43m,\u001b[49m\u001b[43mx0\u001b[49m\u001b[43m,\u001b[49m\u001b[43ms0\u001b[49m\u001b[43m,\u001b[49m\u001b[43mtheta\u001b[49m\u001b[43m)\u001b[49m   \u001b[38;5;66;03m#Lambda Funktion ersparrt definieren von zeit über funktion der Kompassuche\u001b[39;00m\n\u001b[0;32m      8\u001b[0m     \u001b[38;5;28;01mreturn\u001b[39;00m timeit\u001b[38;5;241m.\u001b[39mtimeit(zeit,number\u001b[38;5;241m=\u001b[39m\u001b[38;5;241m1\u001b[39m)\n",
      "File \u001b[1;32mc:\\Users\\Adria\\Desktop\\Master Medizinphysik\\Statistical Data\\Praktische-Optimierung\\Übung\\kompasssuche_test_rename.py:23\u001b[0m, in \u001b[0;36mkompasssuche_test\u001b[1;34m(f_a, x0, s0, theta)\u001b[0m\n\u001b[0;32m     21\u001b[0m Dim \u001b[38;5;241m=\u001b[39mnp \u001b[38;5;241m.\u001b[39mconcatenate ((np \u001b[38;5;241m.\u001b[39midentity (\u001b[38;5;28mlen\u001b[39m (x0 )),\u001b[38;5;241m-\u001b[39mnp \u001b[38;5;241m.\u001b[39midentity (\u001b[38;5;28mlen\u001b[39m (x0 ))),axis \u001b[38;5;241m=\u001b[39m\u001b[38;5;241m1\u001b[39m )\u001b[38;5;66;03m#line:18\u001b[39;00m\n\u001b[0;32m     22\u001b[0m k \u001b[38;5;241m=\u001b[39m\u001b[38;5;241m1\u001b[39m \u001b[38;5;66;03m#Zähler der Iterationen  \u001b[39;00m\n\u001b[1;32m---> 23\u001b[0m min_wert \u001b[38;5;241m=\u001b[39m\u001b[43mf_a\u001b[49m\u001b[43m \u001b[49m\u001b[43m(\u001b[49m\u001b[43mx0\u001b[49m\u001b[43m)\u001b[49m\u001b[38;5;66;03m#line:23\u001b[39;00m\n\u001b[0;32m     24\u001b[0m \u001b[38;5;28;01mwhile\u001b[39;00m (min_wert \u001b[38;5;241m>\u001b[39m\u001b[38;5;28mmin\u001b[39m \u001b[38;5;241m+\u001b[39mtol ):\u001b[38;5;66;03m#line:26\u001b[39;00m\n\u001b[0;32m     25\u001b[0m     Bol_Wert \u001b[38;5;241m=\u001b[39m\u001b[38;5;28;01mFalse\u001b[39;00m \u001b[38;5;66;03m#line:28\u001b[39;00m\n",
      "\u001b[1;31mTypeError\u001b[0m: f_a() missing 1 required positional argument: 'y'"
     ]
    }
   ],
   "source": [
    "'Zeitmessung - Ausführung'\n",
    "\n",
    "for i, (s0, theta) in enumerate(parameter):\n",
    "    for x0 in stichprobe:\n",
    "        for j in range(100):  #Messung 100mal wiederholen\n",
    "            times = [zeitmessung(f_a, x0, s0, theta)]\n",
    "        median_time = np.median(times)  #Mittelwerte der Zeiten\n",
    "        zeiten[i].append(median_time)"
   ]
  },
  {
   "cell_type": "markdown",
   "metadata": {},
   "source": [
    "$$\\textbf{Aufgabe 3.2}$$\n"
   ]
  },
  {
   "cell_type": "markdown",
   "metadata": {},
   "source": [
    "$H0: \\Theta \\neq \\Theta_{0}$   $\\textbf{vs.}$ $H1: \\Theta = \\Theta_{0}$\n",
    "\n"
   ]
  },
  {
   "cell_type": "markdown",
   "metadata": {},
   "source": [
    "$\\textbf{Nicht relevant für Aufgabe}$\\\n",
    "$\\textit{Erklärung der Begriffe:}$\\\n",
    "Signifikanzniveau $\\alpha$ gibt Wahrscheinlichkeit an,dass wahre Nullhypothese (H0) fälschlicherweise abgelehnt wird.\\\n",
    "Gütefunktion gibt für alle Parameterwerte die Wahrscheinlichkeit an, die Nullhypothese abzulehnen.\\\n",
    "Für $\\theta$ aus $\\Theta_{0}$: Gütefunktion misst Wahrscheinlichkeit H0 abzulehnen, obwohl richtig --> Deswegen hier möglichst kleinen Wert für einen guten Test .\\\n",
    "Für $\\theta$ aus $\\Theta_{1}$: Gütefunktion misst Wahrscheinlichkeit H0 abzulehnen, wenn falsch ist --> Deswegen hier möglichst großen Wert für guten Test.\\\n",
    "--> Fehler 1.Art : Wahrscheinlichkeit Nullhypothese ablehnen, obwohl sie richig ist. Durch $\\alpha$ angegeben \\\n",
    "--> Fehler 2.Art : Wahrscheinlichkeit Nullhypothese nicht abzulehnen, obwohl falsch ist \\\n",
    "Kritische Bereich festgelegt, sodass  Wahrscheinlichkeit in diesem Bereich gleich dem Signifikanzniveau $\\alpha$ entspricht, wenn Nullhypothese wahr ist.\n",
    "\n"
   ]
  },
  {
   "cell_type": "markdown",
   "metadata": {},
   "source": [
    "Beispiel für einen zweiseitigen Test mit dem Parameter $\\mu$:\n",
    "\\\n",
    "Hier ist die Nullhypothese wahr für $\\mu = \\mu_{0}$.\\\n",
    "Das heißt eine Ablehnung der wahren Nullhypothese (Fehler 1.Art) führt zu einer Wahrscheinlichkeit P(H1/H0)= $\\alpha$.\\\n",
    "Somit ist dort (für $\\mu = \\mu_{0}$.) ein Minimum in der Gütefunktion (da Gütefunktion für eine wahre Nullhypothese möglichst klein ist)\n",
    "\\\n",
    "Für alle anderen Werte von $\\mu$, gilt die Alternativhypothese und die Nullhypothese wird abgelehnt.\n",
    "Dort ist dann die Gütefunktion größer (da eigentlich Nullhypothese richtig wäre), d.h. Gütefunktion wächst mit zunehmenden Abstand des Wertes $\\mu$ von $\\mu_{0}$.\n",
    "\\\n",
    "![alt text](gütefunktion.png \"Title\")\n",
    "\n",
    "Das bedeutet: \\\n",
    "Für die Fälle, dass Nullhypothese nicht abgelehnt wird, obwohl diese falsch ist. D.h. für einen wahren Parameter-Wert von $\\mu_{i} \\neq \\mu_{0}$.\\\n",
    "\\\n",
    "Bsp: Für einen wahren Parameter Wert von $\\mu_{1}$ mit einer großen Abweichung zu $\\mu_{0}$, ist der Fehler 2.Art ($\\beta$) kleiner als für einen Parameter $\\mu_{2}$ mit einer kleinen Abweichung zu $\\mu_{0}$. Für $\\mu_{2}$ ist der Fehler 2.Art groß.\n",
    "\n",
    "Quelle: https://wikis.hu-berlin.de/mmstat/Gütefunktion_des_Gauß-Tests\n",
    "\n"
   ]
  },
  {
   "cell_type": "markdown",
   "metadata": {},
   "source": [
    "$\\textbf{Anwendung auf die Aufgabe:}$\n",
    "\n",
    "Das Signifikanzniveau $\\alpha$ gibt die Wahrscheinlichkeit an, dass Nullhypothese H0 fälschlicherweise abgelehnt wird, obwohl diese richtig ist. Dass heißt, $\\alpha$ ist Wahrscheinlichkeit $\\theta \\neq \\theta_{0}$, obwohl eigentlich $\\theta = \\theta_{0}$ richtig wäre. Hier sollte die Gütefunktion möglichst klein sein, da eigentlich H0 richtig ist.\n",
    "\\\n",
    "\\\n",
    "Gütefunktion (der Nullhypothese) ist stetig, sodass diese sich kontinuierlich für $\\theta$ verändert. Wenn $\\theta$ sich $\\theta_{0}$ nähert folgt, dass die Güte sich auch dem Wert der Güte von $\\theta_{0}$ nähert. \\\n",
    "Das Problem ist, dass die Alternative nur aus einem Punkt besteht, nämlich $\\theta = \\theta_{0}$, aber gleichzeitig die Gütefunktion stetig ist. Somit wird die Gütefunktion, um $\\theta_{0}$ nicht plötzlich auf null springen, sondern einen Wert größer als null haben. Das bedeutet, dass um den Punkt $\\theta_{0}$, es eine Wahrscheinlich gibt die Nullhypothese zu verwerfen, obwohl diese richtig wäre. Somit ist der Test nicht sinnvoll konzipiert. \n",
    "\n",
    "\\\n",
    "$\\textit{Alternative:}$\\\n",
    "Für den Fall, dass eine Nullhypothese H0, welche falsch ist, auch verworfen wird, ist dies ein korrektes Ergebnis. Somit gibt es keinen Fehler 1.Art (Signifikanzniveau $\\alpha$) und die Gütefunktion muss an dieser Stelle null sein (absolutes Minimum). \\\n",
    "D.h. Dieser Fall ist das bestmögliche Ergebnis, sodass jeder andere Test (wie beispielsweise der Test mit dem Hypothesenpaar $H0: \\Theta \\neq \\Theta_{0}$   $\\textbf{vs.}$ $H1: \\Theta = \\Theta_{0}$ ) eine schlechtere Güte ergibt.\\\n"
   ]
  },
  {
   "cell_type": "markdown",
   "metadata": {},
   "source": [
    "$$\\textbf{Aufgabe 3.3}$$\n",
    "\n"
   ]
  },
  {
   "cell_type": "markdown",
   "metadata": {},
   "source": [
    "(a) Eine Person formuliert die Hypothese, die sie nachweisen m¨ochte, als H0. Ist dies ein sinnvolles\n",
    "Vorgehen? Begr¨unden Sie Ihre Antwort. \\\n",
    "(b) Es wird die Hypothese\n",
    "H0 : Stichprobe ist normalverteilt vs. H1 : Stichprobe ist nicht normalverteilt\n",
    "zum Niveau α = 0.05 getestet. Dabei ergibt sich ein p-Wert von 0.08. Die Nullhypothese kann\n",
    "also nicht abgelehnt werden. Die Person, die den Test durchgef¨uhrt hat, ist sich nun sicher, dass\n",
    "ihre Stichprobe normalverteilt ist. Ist dies sinnvoll? Wie f¨allt Ihre Antwort bei einem p-Wert von\n",
    "0.75 aus? Begr¨unden Sie Ihre Antworten. \\\n",
    "(c) Eine Person erh¨alt ein signifikantes Testergebnis. Kann sie sich sicher sein, dass sie damit etwas\n",
    "wissenschaftlich relevantes herausgefunden hat? Begr¨unden Sie Ihre Antwort."
   ]
  },
  {
   "cell_type": "markdown",
   "metadata": {},
   "source": [
    "$\\textit{Antworten}:$"
   ]
  },
  {
   "cell_type": "markdown",
   "metadata": {},
   "source": [
    "(a): Nein, es wird die zu nachweisende Hypothese als Alternativhypothese H1 formuliert und die Nullhypothese H0 gibt die Gegenannahme. Dies liegt daran, da der Test darauf ausgelegt ist, die Nullhypothese zu widerlegen. Alle vorliegenden Test sind mit dieser Konvention erstellt, sodass es einen grundlegenden Unterschied gäbe und alle Test, um die Hypothese zu prüfen ebenfalls geändert werden müssten. Beispiele sind hierfür, unteranderm das Signifikanzniveau $\\alpha$, welches auf der Wahrscheinlichkeit der Nullhypothese abzulehnen basiert und damit ein Entscheidungskritierum ermöglicht. \\\n",
    "Es wäre somit unteranderem auch nicht wissenschaflich Vergleichbar und somit ein wenig sinnlos.\\\n",
    "\\\n",
    "(b): Nein, wenn die Nullhypothese nicht widerlegt wird, kann man nicht automatisch annehmen, dass diese richtig ist. Für einen p-Wert von 0.75 zeigt, dass wahrscheinlich die Nullhypothese annehmbar ist, jedoch könnte sie immernoch falsch sein (es gibt keinen 100% p-Wert ). Deswegen ist keine Aussage möglich, ob es sich um eine normalverteilte Stichprobe handelt.\\\n",
    "\\\n",
    "(c): Signifikantes Ergebnis zeigt, dass eine Abweichung von der Nullhypothese größer als eine zufällige ist. Somit kann die Nullhypothese abgelehnt werden, wodurch es sich um ein wissenschaftliches Ergebnis handelt, jedoch sollte aufjedenfall das entsprechnende Signifikanzniveau mit angegeben werden."
   ]
  }
 ],
 "metadata": {
  "kernelspec": {
   "display_name": "Python 3",
   "language": "python",
   "name": "python3"
  },
  "language_info": {
   "codemirror_mode": {
    "name": "ipython",
    "version": 3
   },
   "file_extension": ".py",
   "mimetype": "text/x-python",
   "name": "python",
   "nbconvert_exporter": "python",
   "pygments_lexer": "ipython3",
   "version": "3.12.2"
  }
 },
 "nbformat": 4,
 "nbformat_minor": 2
}
