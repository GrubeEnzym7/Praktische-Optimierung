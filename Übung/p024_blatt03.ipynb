{
 "cells": [
  {
   "cell_type": "markdown",
   "metadata": {},
   "source": [
    "$$\\textbf{Blatt 03 - Praktische Optimierung - Adrian Lentz, Robert}$$\n",
    "\n",
    "Lösungen und Erklärungen für Blatt 03. $$\\newline$$\n",
    "Adrian Lentz - Matrikelnummer: 258882 $$\\newline$$\n",
    "Robert Schönewald - Matrikelnummer: 188252"
   ]
  },
  {
   "cell_type": "markdown",
   "metadata": {},
   "source": [
    "$$\\textbf{Aufgabe 3.1}$$\n"
   ]
  },
  {
   "cell_type": "code",
   "execution_count": 41,
   "metadata": {},
   "outputs": [],
   "source": [
    "import numpy as np\n",
    "import kompasssuche_test as kompasssuche_test\n",
    "import kompasssuche_test_rename as kompasssuche_test_2\n",
    "import timeit"
   ]
  },
  {
   "cell_type": "code",
   "execution_count": 42,
   "metadata": {},
   "outputs": [],
   "source": [
    "'Funktion definieren'\n",
    "\n",
    "def f_a(x,y):\n",
    "    return x**2 + y**2\n"
   ]
  },
  {
   "cell_type": "code",
   "execution_count": 43,
   "metadata": {},
   "outputs": [],
   "source": [
    "np.random.seed(1)\n",
    "stichprobe= random_points = np.random.uniform(-10, 10, (500, 2))\n",
    "\n"
   ]
  },
  {
   "cell_type": "code",
   "execution_count": 44,
   "metadata": {},
   "outputs": [],
   "source": [
    "'Parametereinstellungen'\n",
    "\n",
    "parameter = [\n",
    "    (1.0, 0.5),\n",
    "    (2.0, 0.5),\n",
    "    (1.5, 0.8),\n",
    "    (0.5, 0.2)\n",
    "]"
   ]
  },
  {
   "cell_type": "code",
   "execution_count": 45,
   "metadata": {},
   "outputs": [],
   "source": [
    "'Abspeichern der Zeiten'\n",
    "for i in range(len(parameter)):\n",
    "    zeiten = {i : []}\n",
    "\n",
    "'Zeitmessung - Definition'\n",
    "def zeitmessung(f_a,x0,s0,theta):\n",
    "    zeit= lambda:kompasssuche_test_2.kompasssuche_test(f_a,x0,s0,theta)   #Lambda Funktion ersparrt definieren von zeit über funktion der Kompassuche\n",
    "    return timeit.timeit(zeit,number=1)                                 #timeit.timeit gibt Messung der Laufzeit wieder\n",
    "\n",
    "\n"
   ]
  },
  {
   "cell_type": "code",
   "execution_count": 47,
   "metadata": {},
   "outputs": [
    {
     "ename": "TypeError",
     "evalue": "f_a() missing 1 required positional argument: 'y'",
     "output_type": "error",
     "traceback": [
      "\u001b[1;31m---------------------------------------------------------------------------\u001b[0m",
      "\u001b[1;31mTypeError\u001b[0m                                 Traceback (most recent call last)",
      "Cell \u001b[1;32mIn[47], line 6\u001b[0m\n\u001b[0;32m      4\u001b[0m \u001b[38;5;28;01mfor\u001b[39;00m x0 \u001b[38;5;129;01min\u001b[39;00m stichprobe:\n\u001b[0;32m      5\u001b[0m     \u001b[38;5;28;01mfor\u001b[39;00m j \u001b[38;5;129;01min\u001b[39;00m \u001b[38;5;28mrange\u001b[39m(\u001b[38;5;241m100\u001b[39m):  \u001b[38;5;66;03m#Messung 100mal wiederholen\u001b[39;00m\n\u001b[1;32m----> 6\u001b[0m         times \u001b[38;5;241m=\u001b[39m [\u001b[43mzeitmessung\u001b[49m\u001b[43m(\u001b[49m\u001b[43mf_a\u001b[49m\u001b[43m,\u001b[49m\u001b[43m \u001b[49m\u001b[43mx0\u001b[49m\u001b[43m,\u001b[49m\u001b[43m \u001b[49m\u001b[43ms0\u001b[49m\u001b[43m,\u001b[49m\u001b[43m \u001b[49m\u001b[43mtheta\u001b[49m\u001b[43m)\u001b[49m]\n\u001b[0;32m      7\u001b[0m     median_time \u001b[38;5;241m=\u001b[39m np\u001b[38;5;241m.\u001b[39mmedian(times)  \u001b[38;5;66;03m#Mittelwerte der Zeiten\u001b[39;00m\n\u001b[0;32m      8\u001b[0m     zeiten[i]\u001b[38;5;241m.\u001b[39mappend(median_time)\n",
      "Cell \u001b[1;32mIn[45], line 8\u001b[0m, in \u001b[0;36mzeitmessung\u001b[1;34m(f_a, x0, s0, theta)\u001b[0m\n\u001b[0;32m      6\u001b[0m \u001b[38;5;28;01mdef\u001b[39;00m \u001b[38;5;21mzeitmessung\u001b[39m(f_a,x0,s0,theta):\n\u001b[0;32m      7\u001b[0m     zeit\u001b[38;5;241m=\u001b[39m \u001b[38;5;28;01mlambda\u001b[39;00m:kompasssuche_test_2\u001b[38;5;241m.\u001b[39mkompasssuche_test(f_a,x0,s0,theta)   \u001b[38;5;66;03m#Lambda Funktion ersparrt definieren von zeit über funktion der Kompassuche\u001b[39;00m\n\u001b[1;32m----> 8\u001b[0m     \u001b[38;5;28;01mreturn\u001b[39;00m \u001b[43mtimeit\u001b[49m\u001b[38;5;241;43m.\u001b[39;49m\u001b[43mtimeit\u001b[49m\u001b[43m(\u001b[49m\u001b[43mzeit\u001b[49m\u001b[43m,\u001b[49m\u001b[43mnumber\u001b[49m\u001b[38;5;241;43m=\u001b[39;49m\u001b[38;5;241;43m1\u001b[39;49m\u001b[43m)\u001b[49m\n",
      "File \u001b[1;32mc:\\Users\\Adria\\AppData\\Local\\Programs\\Python\\Python312\\Lib\\timeit.py:237\u001b[0m, in \u001b[0;36mtimeit\u001b[1;34m(stmt, setup, timer, number, globals)\u001b[0m\n\u001b[0;32m    234\u001b[0m \u001b[38;5;28;01mdef\u001b[39;00m \u001b[38;5;21mtimeit\u001b[39m(stmt\u001b[38;5;241m=\u001b[39m\u001b[38;5;124m\"\u001b[39m\u001b[38;5;124mpass\u001b[39m\u001b[38;5;124m\"\u001b[39m, setup\u001b[38;5;241m=\u001b[39m\u001b[38;5;124m\"\u001b[39m\u001b[38;5;124mpass\u001b[39m\u001b[38;5;124m\"\u001b[39m, timer\u001b[38;5;241m=\u001b[39mdefault_timer,\n\u001b[0;32m    235\u001b[0m            number\u001b[38;5;241m=\u001b[39mdefault_number, \u001b[38;5;28mglobals\u001b[39m\u001b[38;5;241m=\u001b[39m\u001b[38;5;28;01mNone\u001b[39;00m):\n\u001b[0;32m    236\u001b[0m \u001b[38;5;250m    \u001b[39m\u001b[38;5;124;03m\"\"\"Convenience function to create Timer object and call timeit method.\"\"\"\u001b[39;00m\n\u001b[1;32m--> 237\u001b[0m     \u001b[38;5;28;01mreturn\u001b[39;00m \u001b[43mTimer\u001b[49m\u001b[43m(\u001b[49m\u001b[43mstmt\u001b[49m\u001b[43m,\u001b[49m\u001b[43m \u001b[49m\u001b[43msetup\u001b[49m\u001b[43m,\u001b[49m\u001b[43m \u001b[49m\u001b[43mtimer\u001b[49m\u001b[43m,\u001b[49m\u001b[43m \u001b[49m\u001b[38;5;28;43mglobals\u001b[39;49m\u001b[43m)\u001b[49m\u001b[38;5;241;43m.\u001b[39;49m\u001b[43mtimeit\u001b[49m\u001b[43m(\u001b[49m\u001b[43mnumber\u001b[49m\u001b[43m)\u001b[49m\n",
      "File \u001b[1;32mc:\\Users\\Adria\\AppData\\Local\\Programs\\Python\\Python312\\Lib\\timeit.py:180\u001b[0m, in \u001b[0;36mTimer.timeit\u001b[1;34m(self, number)\u001b[0m\n\u001b[0;32m    178\u001b[0m gc\u001b[38;5;241m.\u001b[39mdisable()\n\u001b[0;32m    179\u001b[0m \u001b[38;5;28;01mtry\u001b[39;00m:\n\u001b[1;32m--> 180\u001b[0m     timing \u001b[38;5;241m=\u001b[39m \u001b[38;5;28;43mself\u001b[39;49m\u001b[38;5;241;43m.\u001b[39;49m\u001b[43minner\u001b[49m\u001b[43m(\u001b[49m\u001b[43mit\u001b[49m\u001b[43m,\u001b[49m\u001b[43m \u001b[49m\u001b[38;5;28;43mself\u001b[39;49m\u001b[38;5;241;43m.\u001b[39;49m\u001b[43mtimer\u001b[49m\u001b[43m)\u001b[49m\n\u001b[0;32m    181\u001b[0m \u001b[38;5;28;01mfinally\u001b[39;00m:\n\u001b[0;32m    182\u001b[0m     \u001b[38;5;28;01mif\u001b[39;00m gcold:\n",
      "File \u001b[1;32m<timeit-src>:6\u001b[0m, in \u001b[0;36minner\u001b[1;34m(_it, _timer, _stmt)\u001b[0m\n",
      "Cell \u001b[1;32mIn[45], line 7\u001b[0m, in \u001b[0;36mzeitmessung.<locals>.<lambda>\u001b[1;34m()\u001b[0m\n\u001b[0;32m      6\u001b[0m \u001b[38;5;28;01mdef\u001b[39;00m \u001b[38;5;21mzeitmessung\u001b[39m(f_a,x0,s0,theta):\n\u001b[1;32m----> 7\u001b[0m     zeit\u001b[38;5;241m=\u001b[39m \u001b[38;5;28;01mlambda\u001b[39;00m:\u001b[43mkompasssuche_test_2\u001b[49m\u001b[38;5;241;43m.\u001b[39;49m\u001b[43mkompasssuche_test\u001b[49m\u001b[43m(\u001b[49m\u001b[43mf_a\u001b[49m\u001b[43m,\u001b[49m\u001b[43mx0\u001b[49m\u001b[43m,\u001b[49m\u001b[43ms0\u001b[49m\u001b[43m,\u001b[49m\u001b[43mtheta\u001b[49m\u001b[43m)\u001b[49m   \u001b[38;5;66;03m#Lambda Funktion ersparrt definieren von zeit über funktion der Kompassuche\u001b[39;00m\n\u001b[0;32m      8\u001b[0m     \u001b[38;5;28;01mreturn\u001b[39;00m timeit\u001b[38;5;241m.\u001b[39mtimeit(zeit,number\u001b[38;5;241m=\u001b[39m\u001b[38;5;241m1\u001b[39m)\n",
      "File \u001b[1;32mc:\\Users\\Adria\\Desktop\\Master Medizinphysik\\Statistical Data\\Praktische-Optimierung\\Übung\\kompasssuche_test_rename.py:23\u001b[0m, in \u001b[0;36mkompasssuche_test\u001b[1;34m(f_a, x0, s0, theta)\u001b[0m\n\u001b[0;32m     21\u001b[0m Dim \u001b[38;5;241m=\u001b[39mnp \u001b[38;5;241m.\u001b[39mconcatenate ((np \u001b[38;5;241m.\u001b[39midentity (\u001b[38;5;28mlen\u001b[39m (x0 )),\u001b[38;5;241m-\u001b[39mnp \u001b[38;5;241m.\u001b[39midentity (\u001b[38;5;28mlen\u001b[39m (x0 ))),axis \u001b[38;5;241m=\u001b[39m\u001b[38;5;241m1\u001b[39m )\u001b[38;5;66;03m#line:18\u001b[39;00m\n\u001b[0;32m     22\u001b[0m k \u001b[38;5;241m=\u001b[39m\u001b[38;5;241m1\u001b[39m \u001b[38;5;66;03m#Zähler der Iterationen  \u001b[39;00m\n\u001b[1;32m---> 23\u001b[0m min_wert \u001b[38;5;241m=\u001b[39m\u001b[43mf_a\u001b[49m\u001b[43m \u001b[49m\u001b[43m(\u001b[49m\u001b[43mx0\u001b[49m\u001b[43m)\u001b[49m\u001b[38;5;66;03m#line:23\u001b[39;00m\n\u001b[0;32m     24\u001b[0m \u001b[38;5;28;01mwhile\u001b[39;00m (min_wert \u001b[38;5;241m>\u001b[39m\u001b[38;5;28mmin\u001b[39m \u001b[38;5;241m+\u001b[39mtol ):\u001b[38;5;66;03m#line:26\u001b[39;00m\n\u001b[0;32m     25\u001b[0m     Bol_Wert \u001b[38;5;241m=\u001b[39m\u001b[38;5;28;01mFalse\u001b[39;00m \u001b[38;5;66;03m#line:28\u001b[39;00m\n",
      "\u001b[1;31mTypeError\u001b[0m: f_a() missing 1 required positional argument: 'y'"
     ]
    }
   ],
   "source": [
    "'Zeitmessung - Ausführung'\n",
    "\n",
    "for i, (s0, theta) in enumerate(parameter):\n",
    "    for x0 in stichprobe:\n",
    "        for j in range(100):  #Messung 100mal wiederholen\n",
    "            times = [zeitmessung(f_a, x0, s0, theta)]\n",
    "        median_time = np.median(times)  #Mittelwerte der Zeiten\n",
    "        zeiten[i].append(median_time)"
   ]
  },
  {
   "cell_type": "markdown",
   "metadata": {},
   "source": [
    "$$\\textbf{Aufgabe 3.2}$$\n"
   ]
  },
  {
   "cell_type": "markdown",
   "metadata": {},
   "source": [
    "Sie haben in der Vorlesung gelernt, dass ein (sinnvoller) Test auf Gleichheit, also beispielsweise f¨ur\n",
    "das Hypothesenpaar\n",
    "H0 : θ ̸= θ0 vs. H1 : θ = θ0\n",
    "mit θ ∈ Θ ⊆ R nicht existiert.\\\n",
    " Begr¨unden Sie, warum ein solcher Test keine h¨ohere G¨ute unter der\n",
    "Alternativen (Wahrscheinlichkeit eine in Wahrheit nicht zutreffende Nullhypothese zu verwerfen) als\n",
    "das Signifikanzniveau α erreichen kann. Was bedeutet dies inhaltlich?\\\n",
    "Hinweis: Es kann gezeigt werden (und darf hier ohne Beweis verwendet werden), dass die G¨utefunktion\n",
    "stetig ist. Nutzen Sie dies bei Ihrer Argumentation. Beachten Sie außerdem, dass die Alternative in\n",
    "diesem Fall nur aus einem Punkt besteht."
   ]
  },
  {
   "cell_type": "markdown",
   "metadata": {},
   "source": [
    "Signifikanzniveau $\\alpha$ gibt Wahrscheinlichkeit an,dass wahre Nullhypothese (H0) fälschlicherweise abgelehnt wird.\\\n",
    "Gütefunktion gibt für alle Parameterwerte die Wahrscheinlichkeit an, die Nullhypothese abzulehnen.\\\n",
    "Für $\\theta$ aus $\\Theta_{0}$: Gütefunktion misst Wahrscheinlichkeit H0 abzulehnen, obwohl richtig --> Deswegen hier möglichst kleinen Wert für einen guten Test .\\\n",
    "Für $\\theta$ aus $\\Theta_{1}$: Gütefunktion misst Wahrscheinlichkeit H0 abzulehnen, wenn falsch ist --> Deswegen hier möglichst großen Wert für guten Test.\\\n",
    "--> Fehler 1.Art : Wahrscheinlichkeit Nullhypothese ablehnen, obwohl sie richig ist --> Durch $\\alpha$ angegeben \\\n",
    "--> Fehler 2.Art : Wahrscheinlichkeit Nullhypothese nicht abzulehnen, obwohl falsch ist "
   ]
  },
  {
   "cell_type": "markdown",
   "metadata": {},
   "source": [
    "$$\\textbf{Aufgabe 3.3}$$\n",
    "\n"
   ]
  },
  {
   "cell_type": "markdown",
   "metadata": {},
   "source": [
    "(a) Eine Person formuliert die Hypothese, die sie nachweisen m¨ochte, als H0. Ist dies ein sinnvolles\n",
    "Vorgehen? Begr¨unden Sie Ihre Antwort. \\\n",
    "(b) Es wird die Hypothese\n",
    "H0 : Stichprobe ist normalverteilt vs. H1 : Stichprobe ist nicht normalverteilt\n",
    "zum Niveau α = 0.05 getestet. Dabei ergibt sich ein p-Wert von 0.08. Die Nullhypothese kann\n",
    "also nicht abgelehnt werden. Die Person, die den Test durchgef¨uhrt hat, ist sich nun sicher, dass\n",
    "ihre Stichprobe normalverteilt ist. Ist dies sinnvoll? Wie f¨allt Ihre Antwort bei einem p-Wert von\n",
    "0.75 aus? Begr¨unden Sie Ihre Antworten. \\\n",
    "(c) Eine Person erh¨alt ein signifikantes Testergebnis. Kann sie sich sicher sein, dass sie"
   ]
  },
  {
   "cell_type": "markdown",
   "metadata": {},
   "source": []
  }
 ],
 "metadata": {
  "kernelspec": {
   "display_name": "Python 3",
   "language": "python",
   "name": "python3"
  },
  "language_info": {
   "codemirror_mode": {
    "name": "ipython",
    "version": 3
   },
   "file_extension": ".py",
   "mimetype": "text/x-python",
   "name": "python",
   "nbconvert_exporter": "python",
   "pygments_lexer": "ipython3",
   "version": "3.12.2"
  }
 },
 "nbformat": 4,
 "nbformat_minor": 2
}
