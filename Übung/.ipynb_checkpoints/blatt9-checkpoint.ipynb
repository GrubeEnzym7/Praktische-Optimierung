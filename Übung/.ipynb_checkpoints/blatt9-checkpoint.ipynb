{
 "cells": [
  {
   "cell_type": "code",
   "execution_count": 29,
   "metadata": {},
   "outputs": [],
   "source": [
    "import numpy as np\n",
    "import matplotlib.pyplot as plt\n",
    "from skopt import Optimizer\n",
    "from skopt.space import Real\n",
    "from skopt.plots import plot_gaussian_process\n"
   ]
  },
  {
   "cell_type": "code",
   "execution_count": 30,
   "metadata": {},
   "outputs": [],
   "source": [
    "def f_1(x):\n",
    "    return np.sin(5*x)*(1-np.tanh(x**2))\n",
    "\n",
    "\n",
    "def f_2(x):\n",
    "    return x**2 - 10*np.cos(5*x)\n",
    "\n",
    "bounds_f1 = (-2, 2)\n",
    "bounds_f2 = (-10, 10)\n"
   ]
  },
  {
   "cell_type": "code",
   "execution_count": 35,
   "metadata": {},
   "outputs": [],
   "source": [
    "class OptimizerWrapper:\n",
    "    def __init__(self, func, bounds, n_initial_points=10, n_iterations=30, acq_func=\"EI\", kappa=1.96):\n",
    "       \n",
    "        self.func = func\n",
    "        self.bounds = bounds\n",
    "        self.n_initial_points = n_initial_points\n",
    "        self.n_iterations = n_iterations\n",
    "        self.acq_func = acq_func\n",
    "        self.kappa = kappa\n",
    "\n",
    "        # Definition Dimension\n",
    "        self.dimensions = [Real(bounds[0], bounds[1], name='x')]  #Nutze Scipy-Klasse\n",
    "\n",
    "        # Initialisierung des Optimizers\n",
    "        acq_func_kwargs = {'kappa': kappa} if acq_func == \"LCB\" else {}\n",
    "        self.optimizer = Optimizer(\n",
    "            dimensions=self.dimensions,\n",
    "            base_estimator=\"GP\",\n",
    "            acq_func=acq_func,\n",
    "            acq_func_kwargs=acq_func_kwargs,\n",
    "            n_initial_points=self.n_initial_points,\n",
    "            initial_point_generator=\"lhs\"\n",
    "        )\n",
    "\n",
    "    def optimize(self):\n",
    "        for i in range(self.n_iterations):\n",
    "            x = self.optimizer.ask()\n",
    "            y = self.func(x[0])\n",
    "            self.optimizer.tell(x, y)\n",
    "            if i in [9, 19, 29]:\n",
    "                if i < len(self.optimizer.yi):  #Muss mindest Anzahl an Iterationen haben, damit Plot gebildet wird\n",
    "                    self.plot_optimizer(i+1)\n",
    "    \n",
    "\n",
    "        best_x = self.optimizer.Xi[np.argmin(self.optimizer.yi)]\n",
    "        best_y = np.min(self.optimizer.yi)\n",
    "        return best_x, best_y\n",
    "\n",
    "    def plot_optimizer(self, iteration):\n",
    "        plt.figure()\n",
    "        plot_gaussian_process(\n",
    "            self.optimizer.get_result(),\n",
    "            objective=self.func,\n",
    "            n_calls=iteration,\n",
    "            show_next_point=True,\n",
    "            show_acq_func=True\n",
    "        )\n",
    "        plt.title(f'{self.acq_func} Optimization after {iteration} Iterations')\n",
    "        plt.show()"
   ]
  },
  {
   "cell_type": "code",
   "execution_count": 36,
   "metadata": {},
   "outputs": [
    {
     "ename": "IndexError",
     "evalue": "list index out of range",
     "output_type": "error",
     "traceback": [
      "\u001b[1;31m---------------------------------------------------------------------------\u001b[0m",
      "\u001b[1;31mIndexError\u001b[0m                                Traceback (most recent call last)",
      "Cell \u001b[1;32mIn[36], line 7\u001b[0m\n\u001b[0;32m      4\u001b[0m     \u001b[38;5;28mprint\u001b[39m(\u001b[38;5;124mf\u001b[39m\u001b[38;5;124m\"\u001b[39m\u001b[38;5;124mBeste Lösung für \u001b[39m\u001b[38;5;132;01m{\u001b[39;00mfunc\u001b[38;5;241m.\u001b[39m\u001b[38;5;18m__name__\u001b[39m\u001b[38;5;132;01m}\u001b[39;00m\u001b[38;5;124m mit \u001b[39m\u001b[38;5;132;01m{\u001b[39;00macq_func\u001b[38;5;132;01m}\u001b[39;00m\u001b[38;5;124m (kappa=\u001b[39m\u001b[38;5;132;01m{\u001b[39;00mkappa\u001b[38;5;132;01m}\u001b[39;00m\u001b[38;5;124m): x = \u001b[39m\u001b[38;5;132;01m{\u001b[39;00mbest_x\u001b[38;5;132;01m}\u001b[39;00m\u001b[38;5;124m, f(x) = \u001b[39m\u001b[38;5;132;01m{\u001b[39;00mbest_y\u001b[38;5;132;01m}\u001b[39;00m\u001b[38;5;124m\"\u001b[39m)\n\u001b[0;32m      6\u001b[0m \u001b[38;5;66;03m# Durchführung der Optimierungen und Generierung der Plots\u001b[39;00m\n\u001b[1;32m----> 7\u001b[0m \u001b[43mrun_optimization\u001b[49m\u001b[43m(\u001b[49m\u001b[43mf_1\u001b[49m\u001b[43m,\u001b[49m\u001b[43m \u001b[49m\u001b[43mbounds_f1\u001b[49m\u001b[43m,\u001b[49m\u001b[43m \u001b[49m\u001b[38;5;124;43m\"\u001b[39;49m\u001b[38;5;124;43mEI\u001b[39;49m\u001b[38;5;124;43m\"\u001b[39;49m\u001b[43m)\u001b[49m\n\u001b[0;32m      8\u001b[0m run_optimization(f_1, bounds_f1, \u001b[38;5;124m\"\u001b[39m\u001b[38;5;124mLCB\u001b[39m\u001b[38;5;124m\"\u001b[39m, kappa\u001b[38;5;241m=\u001b[39m\u001b[38;5;241m1.96\u001b[39m)\n\u001b[0;32m      9\u001b[0m run_optimization(f_2, bounds_f2, \u001b[38;5;124m\"\u001b[39m\u001b[38;5;124mEI\u001b[39m\u001b[38;5;124m\"\u001b[39m)\n",
      "Cell \u001b[1;32mIn[36], line 3\u001b[0m, in \u001b[0;36mrun_optimization\u001b[1;34m(func, bounds, acq_func, kappa)\u001b[0m\n\u001b[0;32m      1\u001b[0m \u001b[38;5;28;01mdef\u001b[39;00m \u001b[38;5;21mrun_optimization\u001b[39m(func, bounds, acq_func, kappa\u001b[38;5;241m=\u001b[39m\u001b[38;5;241m1.96\u001b[39m):\n\u001b[0;32m      2\u001b[0m     optimizer \u001b[38;5;241m=\u001b[39m OptimizerWrapper(func, bounds, n_iterations\u001b[38;5;241m=\u001b[39m\u001b[38;5;241m30\u001b[39m, acq_func\u001b[38;5;241m=\u001b[39macq_func, kappa\u001b[38;5;241m=\u001b[39mkappa)\n\u001b[1;32m----> 3\u001b[0m     best_x, best_y \u001b[38;5;241m=\u001b[39m \u001b[43moptimizer\u001b[49m\u001b[38;5;241;43m.\u001b[39;49m\u001b[43moptimize\u001b[49m\u001b[43m(\u001b[49m\u001b[43m)\u001b[49m\n\u001b[0;32m      4\u001b[0m     \u001b[38;5;28mprint\u001b[39m(\u001b[38;5;124mf\u001b[39m\u001b[38;5;124m\"\u001b[39m\u001b[38;5;124mBeste Lösung für \u001b[39m\u001b[38;5;132;01m{\u001b[39;00mfunc\u001b[38;5;241m.\u001b[39m\u001b[38;5;18m__name__\u001b[39m\u001b[38;5;132;01m}\u001b[39;00m\u001b[38;5;124m mit \u001b[39m\u001b[38;5;132;01m{\u001b[39;00macq_func\u001b[38;5;132;01m}\u001b[39;00m\u001b[38;5;124m (kappa=\u001b[39m\u001b[38;5;132;01m{\u001b[39;00mkappa\u001b[38;5;132;01m}\u001b[39;00m\u001b[38;5;124m): x = \u001b[39m\u001b[38;5;132;01m{\u001b[39;00mbest_x\u001b[38;5;132;01m}\u001b[39;00m\u001b[38;5;124m, f(x) = \u001b[39m\u001b[38;5;132;01m{\u001b[39;00mbest_y\u001b[38;5;132;01m}\u001b[39;00m\u001b[38;5;124m\"\u001b[39m)\n",
      "Cell \u001b[1;32mIn[35], line 32\u001b[0m, in \u001b[0;36mOptimizerWrapper.optimize\u001b[1;34m(self)\u001b[0m\n\u001b[0;32m     30\u001b[0m     \u001b[38;5;28;01mif\u001b[39;00m i \u001b[38;5;129;01min\u001b[39;00m [\u001b[38;5;241m9\u001b[39m, \u001b[38;5;241m19\u001b[39m, \u001b[38;5;241m29\u001b[39m]:\n\u001b[0;32m     31\u001b[0m         \u001b[38;5;28;01mif\u001b[39;00m i \u001b[38;5;241m<\u001b[39m \u001b[38;5;28mlen\u001b[39m(\u001b[38;5;28mself\u001b[39m\u001b[38;5;241m.\u001b[39moptimizer\u001b[38;5;241m.\u001b[39myi):  \u001b[38;5;66;03m#Muss mindest Anzahl an Iterationen haben, damit Plot gebildet wird\u001b[39;00m\n\u001b[1;32m---> 32\u001b[0m             \u001b[38;5;28;43mself\u001b[39;49m\u001b[38;5;241;43m.\u001b[39;49m\u001b[43mplot_optimizer\u001b[49m\u001b[43m(\u001b[49m\u001b[43mi\u001b[49m\u001b[38;5;241;43m+\u001b[39;49m\u001b[38;5;241;43m1\u001b[39;49m\u001b[43m)\u001b[49m\n\u001b[0;32m     35\u001b[0m best_x \u001b[38;5;241m=\u001b[39m \u001b[38;5;28mself\u001b[39m\u001b[38;5;241m.\u001b[39moptimizer\u001b[38;5;241m.\u001b[39mXi[np\u001b[38;5;241m.\u001b[39margmin(\u001b[38;5;28mself\u001b[39m\u001b[38;5;241m.\u001b[39moptimizer\u001b[38;5;241m.\u001b[39myi)]\n\u001b[0;32m     36\u001b[0m best_y \u001b[38;5;241m=\u001b[39m np\u001b[38;5;241m.\u001b[39mmin(\u001b[38;5;28mself\u001b[39m\u001b[38;5;241m.\u001b[39moptimizer\u001b[38;5;241m.\u001b[39myi)\n",
      "Cell \u001b[1;32mIn[35], line 41\u001b[0m, in \u001b[0;36mOptimizerWrapper.plot_optimizer\u001b[1;34m(self, iteration)\u001b[0m\n\u001b[0;32m     39\u001b[0m \u001b[38;5;28;01mdef\u001b[39;00m \u001b[38;5;21mplot_optimizer\u001b[39m(\u001b[38;5;28mself\u001b[39m, iteration):\n\u001b[0;32m     40\u001b[0m     plt\u001b[38;5;241m.\u001b[39mfigure()\n\u001b[1;32m---> 41\u001b[0m     \u001b[43mplot_gaussian_process\u001b[49m\u001b[43m(\u001b[49m\n\u001b[0;32m     42\u001b[0m \u001b[43m        \u001b[49m\u001b[38;5;28;43mself\u001b[39;49m\u001b[38;5;241;43m.\u001b[39;49m\u001b[43moptimizer\u001b[49m\u001b[38;5;241;43m.\u001b[39;49m\u001b[43mget_result\u001b[49m\u001b[43m(\u001b[49m\u001b[43m)\u001b[49m\u001b[43m,\u001b[49m\n\u001b[0;32m     43\u001b[0m \u001b[43m        \u001b[49m\u001b[43mobjective\u001b[49m\u001b[38;5;241;43m=\u001b[39;49m\u001b[38;5;28;43mself\u001b[39;49m\u001b[38;5;241;43m.\u001b[39;49m\u001b[43mfunc\u001b[49m\u001b[43m,\u001b[49m\n\u001b[0;32m     44\u001b[0m \u001b[43m        \u001b[49m\u001b[43mn_calls\u001b[49m\u001b[38;5;241;43m=\u001b[39;49m\u001b[43miteration\u001b[49m\u001b[43m,\u001b[49m\n\u001b[0;32m     45\u001b[0m \u001b[43m        \u001b[49m\u001b[43mshow_next_point\u001b[49m\u001b[38;5;241;43m=\u001b[39;49m\u001b[38;5;28;43;01mTrue\u001b[39;49;00m\u001b[43m,\u001b[49m\n\u001b[0;32m     46\u001b[0m \u001b[43m        \u001b[49m\u001b[43mshow_acq_func\u001b[49m\u001b[38;5;241;43m=\u001b[39;49m\u001b[38;5;28;43;01mTrue\u001b[39;49;00m\n\u001b[0;32m     47\u001b[0m \u001b[43m    \u001b[49m\u001b[43m)\u001b[49m\n\u001b[0;32m     48\u001b[0m     plt\u001b[38;5;241m.\u001b[39mtitle(\u001b[38;5;124mf\u001b[39m\u001b[38;5;124m'\u001b[39m\u001b[38;5;132;01m{\u001b[39;00m\u001b[38;5;28mself\u001b[39m\u001b[38;5;241m.\u001b[39macq_func\u001b[38;5;132;01m}\u001b[39;00m\u001b[38;5;124m Optimization after \u001b[39m\u001b[38;5;132;01m{\u001b[39;00miteration\u001b[38;5;132;01m}\u001b[39;00m\u001b[38;5;124m Iterations\u001b[39m\u001b[38;5;124m'\u001b[39m)\n\u001b[0;32m     49\u001b[0m     plt\u001b[38;5;241m.\u001b[39mshow()\n",
      "File \u001b[1;32mc:\\Users\\Adria\\AppData\\Local\\Programs\\Python\\Python312\\Lib\\site-packages\\skopt\\plots.py:231\u001b[0m, in \u001b[0;36mplot_gaussian_process\u001b[1;34m(res, ax, n_calls, objective, n_points, noise_level, show_legend, show_title, show_acq_func, show_next_point, show_observations, show_mu)\u001b[0m\n\u001b[0;32m    229\u001b[0m     curr_func_vals \u001b[38;5;241m=\u001b[39m res\u001b[38;5;241m.\u001b[39mfunc_vals\n\u001b[0;32m    230\u001b[0m \u001b[38;5;28;01melse\u001b[39;00m:\n\u001b[1;32m--> 231\u001b[0m     model \u001b[38;5;241m=\u001b[39m \u001b[43mres\u001b[49m\u001b[38;5;241;43m.\u001b[39;49m\u001b[43mmodels\u001b[49m\u001b[43m[\u001b[49m\u001b[43mn_calls\u001b[49m\u001b[43m]\u001b[49m\n\u001b[0;32m    233\u001b[0m     curr_x_iters \u001b[38;5;241m=\u001b[39m res\u001b[38;5;241m.\u001b[39mx_iters[: n_random \u001b[38;5;241m+\u001b[39m n_calls]\n\u001b[0;32m    234\u001b[0m     curr_func_vals \u001b[38;5;241m=\u001b[39m res\u001b[38;5;241m.\u001b[39mfunc_vals[: n_random \u001b[38;5;241m+\u001b[39m n_calls]\n",
      "\u001b[1;31mIndexError\u001b[0m: list index out of range"
     ]
    },
    {
     "data": {
      "image/png": "[encoded data removed]",
      "text/plain": [
       "<Figure size 640x480 with 1 Axes>"
      ]
     },
     "metadata": {},
     "output_type": "display_data"
    }
   ],
   "source": [
    "def run_optimization(func, bounds, acq_func, kappa=1.96):\n",
    "    optimizer = OptimizerWrapper(func, bounds, n_iterations=30, acq_func=acq_func, kappa=kappa)\n",
    "    best_x, best_y = optimizer.optimize()\n",
    "    print(f\"Beste Lösung für {func.__name__} mit {acq_func} (kappa={kappa}): x = {best_x}, f(x) = {best_y}\")\n",
    "\n",
    "# Durchführung der Optimierungen und Generierung der Plots\n",
    "run_optimization(f_1, bounds_f1, \"EI\")\n",
    "run_optimization(f_1, bounds_f1, \"LCB\", kappa=1.96)\n",
    "run_optimization(f_2, bounds_f2, \"EI\")\n",
    "run_optimization(f_2, bounds_f2, \"LCB\", kappa=1.96)"
   ]
  },
  {
   "cell_type": "code",
   "execution_count": 19,
   "metadata": {},
   "outputs": [
    {
     "name": "stdout",
     "output_type": "stream",
     "text": [
      "Beste Lösung für f1 mit EI: x = [-0.28918707635714336] , f1(x) = -0.9094297881717119\n",
      "Beste Lösung für f2 mit EI: x = [0.0021491965853730477] , f2(x) = -9.999418005764836\n"
     ]
    }
   ],
   "source": [
    "'Expected Improvement (EI)'\n",
    "optimizer_f1_ei = OptimizerWrapper(func=f_1, bounds=bounds_f1, acq_func=\"EI\")\n",
    "best_x_f1_ei, best_y_f1_ei = optimizer_f1_ei.optimize()\n",
    "print(\"Beste Lösung für f1 mit EI: x =\", best_x_f1_ei, \", f1(x) =\", best_y_f1_ei)\n",
    "\n",
    "optimizer_f2_ei = OptimizerWrapper(func=f_2, bounds=bounds_f2, acq_func=\"EI\")\n",
    "best_x_f2_ei, best_y_f2_ei = optimizer_f2_ei.optimize()\n",
    "print(\"Beste Lösung für f2 mit EI: x =\", best_x_f2_ei, \", f2(x) =\", best_y_f2_ei)\n"
   ]
  },
  {
   "cell_type": "code",
   "execution_count": 24,
   "metadata": {},
   "outputs": [
    {
     "name": "stdout",
     "output_type": "stream",
     "text": [
      "Beste Lösung für f1 mit LCB (kappa=1.96): x = [-0.2891972676152803] , f1(x) = -0.9094297955553221\n",
      "Beste Lösung für f2 mit LCB (kappa=1.96): x = [0.02121367376755856] , f1(x) = -9.943350204983675\n"
     ]
    }
   ],
   "source": [
    "'Lower Confidence Bounce (LCB)'\n",
    "kappa_f1_lcb = 1.96 #0.1 , 1.96 , 10\n",
    "optimizer_f1_lcb = OptimizerWrapper(func=f_1, bounds=bounds_f1, acq_func=\"LCB\", kappa=kappa_f1_lcb) #kappa=0.1 , 1.96 , 10\n",
    "best_x_f1_lcb, best_y_f1_lcb = optimizer_f1_lcb.optimize()\n",
    "print(f\"Beste Lösung für f1 mit LCB (kappa={kappa_f1_lcb}): x =\", best_x_f1_lcb, \", f1(x) =\", best_y_f1_lcb)\n",
    "\n",
    "\n",
    "kappa_f2_lcb = 1.96 #0.1 , 1.96 , 10\n",
    "optimizer_f2_lcb = OptimizerWrapper(func=f_2, bounds=bounds_f2, acq_func=\"LCB\", kappa=kappa_f2_lcb)\n",
    "best_x_f2_lcb, best_y_f2_lcb = optimizer_f2_lcb.optimize()\n",
    "print(f\"Beste Lösung für f2 mit LCB (kappa={kappa_f2_lcb}): x =\", best_x_f2_lcb, \", f1(x) =\", best_y_f2_lcb)"
   ]
  }
 ],
 "metadata": {
  "kernelspec": {
   "display_name": "smd",
   "language": "python",
   "name": "python3"
  },
  "language_info": {
   "codemirror_mode": {
    "name": "ipython",
    "version": 3
   },
   "file_extension": ".py",
   "mimetype": "text/x-python",
   "name": "python",
   "nbconvert_exporter": "python",
   "pygments_lexer": "ipython3",
   "version": "3.12.2"
  }
 },
 "nbformat": 4,
 "nbformat_minor": 2
}
