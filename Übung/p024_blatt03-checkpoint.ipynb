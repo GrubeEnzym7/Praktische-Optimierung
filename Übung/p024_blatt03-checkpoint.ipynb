{
 "cells": [
  {
   "cell_type": "markdown",
   "metadata": {},
   "source": [
    "$$\\textbf{Blatt 03 - Praktische Optimierung - Adrian Lentz, Robert}$$\n",
    "\n",
    "Lösungen und Erklärungen für Blatt 03. $$\\newline$$\n",
    "Adrian Lentz - Matrikelnummer: 258882 $$\\newline$$\n",
    "Robert Schönewald - Matrikelnummer: 188252"
   ]
  },
  {
   "cell_type": "markdown",
   "metadata": {},
   "source": [
    "$$\\textbf{Aufgabe 3.1}$$\n"
   ]
  },
  {
   "cell_type": "code",
   "execution_count": 1,
   "metadata": {},
   "outputs": [],
   "source": [
    "import numpy as np\n",
    "from kompasssuche_test import kompasssuche_test\n",
    "import timeit\n",
    "import matplotlib.pyplot as plt"
   ]
  },
  {
   "cell_type": "code",
   "execution_count": 9,
   "metadata": {},
   "outputs": [],
   "source": [
    "'Funktion definieren'\n",
    "\n",
    "def f_a(x):\n",
    "    return x[0]**2 + x[1]**2\n"
   ]
  },
  {
   "cell_type": "code",
   "execution_count": 12,
   "metadata": {},
   "outputs": [],
   "source": [
    "np.random.seed(1)\n",
    "stichprobe= random_points = np.random.uniform(-10, 10, (500, 2))"
   ]
  },
  {
   "cell_type": "code",
   "execution_count": 13,
   "metadata": {},
   "outputs": [],
   "source": [
    "'Parametereinstellungen'\n",
    "\n",
    "parameter = [\n",
    "    (1.0, 0.5),\n",
    "    (2.0, 0.5),\n",
    "    (1.5, 0.8),\n",
    "    (0.5, 0.2)\n",
    "]"
   ]
  },
  {
   "cell_type": "code",
   "execution_count": 18,
   "metadata": {},
   "outputs": [
    {
     "name": "stdout",
     "output_type": "stream",
     "text": [
      "range(0, 1)\n"
     ]
    }
   ],
   "source": [
    "'Zeitmessung - Definition'\n",
    "def zeitmessung(f_a,x0,s0,theta):\n",
    "    zeit= lambda:kompasssuche_test(f_a,x0,s0,theta)   #Lambda Funktion ersparrt definieren von zeit über funktion der Kompassuche\n",
    "    return timeit.timeit(zeit,number=1)                                 #timeit.timeit gibt Messung der Laufzeit wieder\n"
   ]
  },
  {
   "cell_type": "code",
   "execution_count": 33,
   "metadata": {},
   "outputs": [
    {
     "name": "stdout",
     "output_type": "stream",
     "text": [
      "500\n"
     ]
    }
   ],
   "source": [
    "'Zeitmessung - Ausführung'\n",
    "zeiten=[]\n",
    "for i, (s0, theta) in enumerate(parameter):\n",
    "    para_zeiten=[]\n",
    "    for x0 in stichprobe:\n",
    "        curr_times=[]\n",
    "        for j in range(100):  #Messung 100mal wiederholen\n",
    "            curr_times.append(zeitmessung(f_a, x0, s0, theta))\n",
    "        para_zeiten.append(np.median(curr_times))\n",
    "    zeiten.append(para_zeiten)\n",
    "print(len(zeiten[0]))"
   ]
  },
  {
   "cell_type": "code",
   "execution_count": 47,
   "metadata": {},
   "outputs": [
    {
     "data": {
      "text/plain": [
       "[Text(0.5, 0, 'Parameter'), Text(0, 0.5, 'mediane Zeiten')]"
      ]
     },
     "execution_count": 47,
     "metadata": {},
     "output_type": "execute_result"
    },
    {
     "data": {
      "image/png": "[encoded data removed]",
      "text/plain": [
       "<Figure size 640x480 with 1 Axes>"
      ]
     },
     "metadata": {},
     "output_type": "display_data"
    }
   ],
   "source": [
    "fig, ax = plt.subplots()\n",
    "ax.boxplot(zeiten)\n",
    "ax.set_xticklabels(['(1, 0.5)','(2, 0.5)','(1.5, 0.8)','(0.5, 0.2)'])\n",
    "ax.set(xlabel='Parameter', ylabel='mediane Zeiten')"
   ]
  },
  {
   "cell_type": "code",
   "execution_count": 50,
   "metadata": {},
   "outputs": [
    {
     "ename": "NameError",
     "evalue": "name 'Die' is not defined",
     "output_type": "error",
     "traceback": [
      "\u001b[1;31m---------------------------------------------------------------------------\u001b[0m",
      "\u001b[1;31mNameError\u001b[0m                                 Traceback (most recent call last)",
      "Cell \u001b[1;32mIn[50], line 1\u001b[0m\n\u001b[1;32m----> 1\u001b[0m Die\n",
      "\u001b[1;31mNameError\u001b[0m: name 'Die' is not defined"
     ]
    }
   ],
   "source": [
    "Die erste Sache die bei Betrachtung der Boxplots auffällt, ist dass die Parameterkombination (1.5, 0.8) deutlich höhere Zeiten erreicht als die \n",
    "anderen Parameter. Die Schrittweite wird hier am langsamsten verrringert, was dazu führt, dass viele unnötige Iterationen durchgeführt werden, da die\n",
    "Schrittweite immer noch zu lang ist. Dazu kommt noch, dass die initiale Schrittweite mit 1.5 relativ hoch ist.\n",
    "Die Parameter (0.5, 0.2) erzeugen einen Boxplot mit sehr hoher Varianz, ihre schnellste und langsamste Zeit scheint mit der von allen Parameterpaaren \n",
    "übereinzustimmen. Dies lässt sich durch eine Sehr kleine initiale Schrittweite erklären. Zusätzlich wird diese auch nur sehr langsam verändert. Der\n",
    "Erfolg dieser Parameter hängt stark von der Startposition ab, da bei großer Entfernung zum Optimum ein sehr langer Weg begangen werden muss, bei kleiner\n",
    "Entfernung wird das Optimum bereits schnell genau gefunden.\n",
    "Die ersten beiden Paare (1, 0.5) (hier A genannt) und (2, 0.5) (hier B genannt) lassen erkennen, dass B deutlich weniger schwankt. Insgesamt scheint B \n",
    "die bessere Wahl zu sein, da der Median und die beiden Quartile unter denen von A liegen. Jedoch ist das Minimum von beiden in A. Da sich beide Paare \n",
    "nur in der initialen Schrittweite unterscheiden, lässt sich daraus schließen, dass eine größere Schrittweite meistens schneller ist, jedoch ermöglicht\n",
    "eine kürzere Schrittweite das Finden des Optimums in minimaler Zeit. "
   ]
  },
  {
   "cell_type": "code",
   "execution_count": 49,
   "metadata": {},
   "outputs": [
    {
     "data": {
      "text/plain": [
       "'Aufstellen der Hypothesen'"
      ]
     },
     "execution_count": 49,
     "metadata": {},
     "output_type": "execute_result"
    }
   ],
   "source": [
    "'Aufstellen der Hypothesen'"
   ]
  },
  {
   "cell_type": "markdown",
   "metadata": {},
   "source": [
    "$$\\textbf{Aufgabe 3.2}$$\n"
   ]
  },
  {
   "cell_type": "markdown",
   "metadata": {},
   "source": [
    "Sie haben in der Vorlesung gelernt, dass ein (sinnvoller) Test auf Gleichheit, also beispielsweise f¨ur\n",
    "das Hypothesenpaar\n",
    "H0 : θ ̸= θ0 vs. H1 : θ = θ0\n",
    "mit θ ∈ Θ ⊆ R nicht existiert.\\\n",
    " Begr¨unden Sie, warum ein solcher Test keine h¨ohere G¨ute unter der\n",
    "Alternativen (Wahrscheinlichkeit eine in Wahrheit nicht zutreffende Nullhypothese zu verwerfen) als\n",
    "das Signifikanzniveau α erreichen kann. Was bedeutet dies inhaltlich?\\\n",
    "Hinweis: Es kann gezeigt werden (und darf hier ohne Beweis verwendet werden), dass die G¨utefunktion\n",
    "stetig ist. Nutzen Sie dies bei Ihrer Argumentation. Beachten Sie außerdem, dass die Alternative in\n",
    "diesem Fall nur aus einem Punkt besteht."
   ]
  },
  {
   "cell_type": "markdown",
   "metadata": {},
   "source": [
    "$\\textit{Erklärung der Begriffe}$\\\n",
    "Signifikanzniveau $\\alpha$ gibt Wahrscheinlichkeit an,dass wahre Nullhypothese (H0) fälschlicherweise abgelehnt wird.\\\n",
    "Gütefunktion gibt für alle Parameterwerte die Wahrscheinlichkeit an, die Nullhypothese abzulehnen.\\\n",
    "Für $\\theta$ aus $\\Theta_{0}$: Gütefunktion misst Wahrscheinlichkeit H0 abzulehnen, obwohl richtig --> Deswegen hier möglichst kleinen Wert für einen guten Test .\\\n",
    "Für $\\theta$ aus $\\Theta_{1}$: Gütefunktion misst Wahrscheinlichkeit H0 abzulehnen, wenn falsch ist --> Deswegen hier möglichst großen Wert für guten Test.\\\n",
    "--> Fehler 1.Art : Wahrscheinlichkeit Nullhypothese ablehnen, obwohl sie richig ist. Durch $\\alpha$ angegeben \\\n",
    "--> Fehler 2.Art : Wahrscheinlichkeit Nullhypothese nicht abzulehnen, obwohl falsch ist \\\n",
    "Kritische Bereich festgelegt, sodass  Wahrscheinlichkeit in diesem Bereich gleich dem Signifikanzniveau $\\alpha$ entspricht, wenn Nullhypothese wahr ist.\n",
    "\n",
    "\\\n",
    "\\\n",
    "$\\textit{Anwendung auf die Aufgabe}$\\\n",
    "Das Signifikanzniveau $\\alpha$ gibt die Wahrscheinlichkeit an, dass Nullhypothese H0 fälschlicherweise abgelehnt wird, obwohl diese richtig ist. Dass heißt, $\\alpha$ ist Wahrscheinlichkeit $\\theta = \\theta_{0}$, obwohl eigentlich $\\theta \\neq \\theta_{0}$ richtig wäre.\n",
    "\\\n",
    "Die Gütefunktion gibt Wahrscheinlichkeit an, dass die Nullhypothese H0 abgelehnt wird. Dass heißt, es wäre die Wahrscheinlichkeit H0: $\\theta \\neq \\theta_{0}$ abzulehnen, wenn der wahre Wert von $\\theta = \\theta_{0}$  wirklich ist.\n",
    "\\\n",
    "\\\n",
    "Gütefunktion (der Nullhypothese) ist stetig, sodass diese sich kontinuierlich für $\\theta$ verändert. Wenn $\\theta$ sich $\\theta_{0}$ nähert folgt, dass die Güte sich auch dem Wert der Güte von $\\theta_{0}$ nähert. \\\n",
    "Gütefunktion wird maximal für $\\theta = \\theta_{0}$, aber der kritische Bereich ist sehr klein, sodass eine minimale Änderung von $\\theta$ zu einer starken Veränderung der Güte führt, d.h. Güte nimmt stark ab. \\\n",
    "Hier ist der kritische Bereich gleich dem Signifikanzniveau $\\alpha$ : Wahrscheinlichkeit $\\theta = \\theta_{0}$ abzulehnen.\\\n",
    "\\\n",
    "Alternativer Fall: \n",
    "Für die Möglichkeit, dass $\\theta = \\theta_{0}$ ist, d.h. Nullhypothese ist wirklich falsch und Alternativhypothese ist richtig. Es gibt keine Veränderung von $\\theta$, damit folgt der kritische Bereich ist gleich $\\alpha$ für $\\theta = \\theta_{0}$. Damit kann eine falsche Ablehnung der Nullhypothese mit einer Wahrscheinlichkeit von maximal $\\alpha$ möglich sein. Die hohe Güte für $\\theta = \\theta_{0}$ bedeutet, dass nur Nullhypothese H0 abgelehnt wird, wenn es außerhalb des kritischen Bereich $\\alpha$ liegt. Außerdem kann hierfür kein Fehler 2.Art entstehen, da Nullhypothese nicht angenommen werden kann. "
   ]
  },
  {
   "cell_type": "markdown",
   "metadata": {},
   "source": [
    "Test kann nur zwischen zwei Fällen unterscheiden, entweder Nullhypothese mit $\\theta \\neq \\theta_{0}$ oder Alternativhypothese mit $\\theta = \\theta_{0}$."
   ]
  },
  {
   "cell_type": "markdown",
   "metadata": {},
   "source": [
    "$$\\textbf{Aufgabe 3.3}$$\n",
    "\n"
   ]
  },
  {
   "cell_type": "markdown",
   "metadata": {},
   "source": [
    "(a) Eine Person formuliert die Hypothese, die sie nachweisen m¨ochte, als H0. Ist dies ein sinnvolles\n",
    "Vorgehen? Begr¨unden Sie Ihre Antwort. \\\n",
    "(b) Es wird die Hypothese\n",
    "H0 : Stichprobe ist normalverteilt vs. H1 : Stichprobe ist nicht normalverteilt\n",
    "zum Niveau α = 0.05 getestet. Dabei ergibt sich ein p-Wert von 0.08. Die Nullhypothese kann\n",
    "also nicht abgelehnt werden. Die Person, die den Test durchgef¨uhrt hat, ist sich nun sicher, dass\n",
    "ihre Stichprobe normalverteilt ist. Ist dies sinnvoll? Wie f¨allt Ihre Antwort bei einem p-Wert von\n",
    "0.75 aus? Begr¨unden Sie Ihre Antworten. \\\n",
    "(c) Eine Person erh¨alt ein signifikantes Testergebnis. Kann sie sich sicher sein, dass sie damit etwas\n",
    "wissenschaftlich relevantes herausgefunden hat? Begr¨unden Sie Ihre Antwort."
   ]
  },
  {
   "cell_type": "markdown",
   "metadata": {},
   "source": []
  },
  {
   "cell_type": "markdown",
   "metadata": {},
   "source": [
    "(a): Nein, es wird die zu nachweisende Hypothese als Alternativhypothese H1 formuliert und die Nullhypothese H0 gibt die Gegenannahme. Dies liegt daran, da der Test darauf ausgelegt ist, die Nullhypothese zu widerlegen. \\\n",
    "\\\n",
    "(b): Nein, wenn die Nullhypothese nicht widerlegt wird, kann man nicht automatisch annehmen, dass diese richtig ist. Für einen p-Wert von 0.75 zeigt, dass wahrscheinlich die Nullhypothese annehmbar ist, jedoch könnte sie immernoch falsch sein (es gibt keinen 100% p-Wert ). Deswegen ist keine Aussage möglich, ob es sich um eine normalverteilte Stichprobe handelt.\\\n",
    "\\\n",
    "(c): Signifikantes Ergebnis zeigt, dass eine Abweichung von der Nullhypothese größer als eine zufällige ist. Somit kann die Nullhypothese abgelehnt werden, wodurch es sich um ein wissenschaftliches Ergebnis handelt, jedoch sollte aufjedenfall das entsprechnende Signifikanzniveau mit angegeben werden."
   ]
  }
 ],
 "metadata": {
  "kernelspec": {
   "display_name": "Python 3 (ipykernel)",
   "language": "python",
   "name": "python3"
  },
  "language_info": {
   "codemirror_mode": {
    "name": "ipython",
    "version": 3
   },
   "file_extension": ".py",
   "mimetype": "text/x-python",
   "name": "python",
   "nbconvert_exporter": "python",
   "pygments_lexer": "ipython3",
   "version": "3.11.7"
  }
 },
 "nbformat": 4,
 "nbformat_minor": 4
}
