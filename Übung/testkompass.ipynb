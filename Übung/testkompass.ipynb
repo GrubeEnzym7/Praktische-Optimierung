{
 "cells": [
  {
   "cell_type": "markdown",
   "metadata": {},
   "source": [
    "Kopiert aus Musterlösung für Kompasssuche für Blatt 3"
   ]
  },
  {
   "cell_type": "code",
   "execution_count": 19,
   "metadata": {},
   "outputs": [],
   "source": [
    "import numpy as np #line:1\n",
    "def kompasssuche_test (f ,x :np .ndarray ,s0 :float ,theta :float)->int :#line:3\t  \n",
    "    \"\"\"Kompasssuche algorithm to find the minimum of a function.\n",
    "    Stops when the expected minimum of 0.0 is reached with a tolerance of 0.001.\n",
    "    \n",
    "    Parameters:\n",
    "        f (callable): the function to minimize.\n",
    "        x0 (ndarray): the initial point.\n",
    "        s0 (float): the initial step size.\n",
    "        theta (float): reduction factor of the step size.\n",
    "        \n",
    "    Returns:\n",
    "        int: number of iterations needed to reach the solution (or max. 1000)\n",
    "    \"\"\"\n",
    "    min =0.0  #Minimum \n",
    "    tol =0.001 #tolerance\n",
    "    D =np .concatenate ((np .identity (len (x )),-np .identity (len (x ))),axis =1 )#D-matrizen kombiniert--> Dimensions Menge\n",
    "    k =1 # Iterationsschritt\n",
    "    aktuelle_wert =f(x)#line:23\n",
    "\n",
    "    while (aktuelle_wert >min +tol ):#line:26\n",
    "        bolean_count =False #Wie Bedingung für Schleife\n",
    "        counter_dim =0 #Zähler der Menge der Dvektoren (geht alle Richtungen durch)\n",
    "\n",
    "        while counter_dim <D .shape [1 ]and not bolean_count :#line:32\n",
    "            wert_01 =f (x +s0 *D [:,counter_dim ])#neuer Wert für Funktion\n",
    "\n",
    "            if wert_01 <aktuelle_wert :#Falls Wert besser als ursprünglicher Wert ist , wird neuer Wert übernommen\n",
    "                x =x +s0 *D [:,counter_dim ] #neuer x wert über Schrittweite s und Einheitsvektor\n",
    "                aktuelle_wert =wert_01 #Neue wert_01 wird übernommen\n",
    "                print(aktuelle_wert)  #Ausgabe des Funktionswert in der entsprechenden Iteration\n",
    "                bolean_count =True #line:43\n",
    "            counter_dim +=1 #line:44\n",
    "\n",
    "        if not bolean_count :#\n",
    "            print('Test')\n",
    "            s0 =theta *s0 #Anpasssung von s0(step size)\n",
    "        k +=1 \n",
    "\n",
    "        if (k >=1000 ):#Abbruch nach 1000 Iterationen\n",
    "        \tbreak \n",
    "    return k \n"
   ]
  },
  {
   "cell_type": "markdown",
   "metadata": {},
   "source": [
    "Fragen / Aufgaben\n",
    "- Input für x als Array ?\n",
    "- While Schleife anpassen, sodass andere Abbruchbed.\n",
    "- bolean_count wie Bedinung für Schleife? Warum ?\n",
    "- wann kommt in not bolean_count Schleife ?\n",
    "- s0=theta * s0 , warum ?"
   ]
  },
  {
   "cell_type": "code",
   "execution_count": 11,
   "metadata": {},
   "outputs": [],
   "source": [
    "def f_a(x):\n",
    "    return (x+5)**2"
   ]
  },
  {
   "cell_type": "code",
   "execution_count": 20,
   "metadata": {},
   "outputs": [
    {
     "name": "stdout",
     "output_type": "stream",
     "text": [
      "[30.25]\n",
      "[25.]\n",
      "[20.25]\n",
      "[16.]\n",
      "[12.25]\n",
      "[9.]\n",
      "[6.25]\n",
      "[4.]\n",
      "[2.25]\n",
      "[1.]\n",
      "[0.25]\n",
      "[0.]\n"
     ]
    },
    {
     "data": {
      "text/plain": [
       "13"
      ]
     },
     "execution_count": 20,
     "metadata": {},
     "output_type": "execute_result"
    }
   ],
   "source": [
    "kompasssuche_test(f_a,x=np.array([1]),s0=0.5,theta=0.3)"
   ]
  },
  {
   "cell_type": "code",
   "execution_count": 9,
   "metadata": {},
   "outputs": [
    {
     "name": "stdout",
     "output_type": "stream",
     "text": [
      "2\n",
      "[[1. 0.]\n",
      " [0. 1.]]\n",
      "[[-1. -0.]\n",
      " [-0. -1.]]\n",
      "[[ 1.  0. -1. -0.]\n",
      " [ 0.  1. -0. -1.]]\n"
     ]
    }
   ],
   "source": [
    "import numpy as np\n",
    "\n",
    "a=(1,2)\n",
    "print(len(a))\n",
    "m=np.identity(len(a))\n",
    "n=-np.identity(len(a))\n",
    "print(m)\n",
    "print(n)\n",
    "kk=np.concatenate((m,n,axis=1)\n",
    "print(kk)"
   ]
  }
 ],
 "metadata": {
  "kernelspec": {
   "display_name": "base",
   "language": "python",
   "name": "python3"
  },
  "language_info": {
   "codemirror_mode": {
    "name": "ipython",
    "version": 3
   },
   "file_extension": ".py",
   "mimetype": "text/x-python",
   "name": "python",
   "nbconvert_exporter": "python",
   "pygments_lexer": "ipython3",
   "version": "3.10.14"
  }
 },
 "nbformat": 4,
 "nbformat_minor": 2
}
