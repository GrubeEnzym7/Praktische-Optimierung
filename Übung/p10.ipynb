{
 "cells": [
  {
   "cell_type": "code",
   "execution_count": 28,
   "metadata": {},
   "outputs": [
    {
     "name": "stdout",
     "output_type": "stream",
     "text": [
      "[  2.2 600. ]\n",
      "600.0\n",
      "inf\n",
      "inf\n"
     ]
    }
   ],
   "source": [
    "#Berechnung der Crowding Distance\n",
    "#Setzt d(1)=d(mu)=unendlich\n",
    "import numpy as np\n",
    "\n",
    "x=np.array([(2.4,500),(2.2,600),(1.9,620),(1.7,650),(1.4,750)])\n",
    "print(x[1])\n",
    "print(x[1,1])\n",
    "\n",
    "\n",
    "dx0=np.inf\n",
    "dx5=np.inf\n",
    "print(dx0)\n",
    "\n",
    "dx1=x[1,1]-dx0\n",
    "dx2=x[2,1]-x[1,1]\n",
    "dx3=x[3,1]-x[2,1]\n",
    "dx4=dx5-x[3,1]\n",
    "\n",
    "print(dx4)\n"
   ]
  }
 ],
 "metadata": {
  "kernelspec": {
   "display_name": "base",
   "language": "python",
   "name": "python3"
  },
  "language_info": {
   "codemirror_mode": {
    "name": "ipython",
    "version": 3
   },
   "file_extension": ".py",
   "mimetype": "text/x-python",
   "name": "python",
   "nbconvert_exporter": "python",
   "pygments_lexer": "ipython3",
   "version": "3.10.14"
  }
 },
 "nbformat": 4,
 "nbformat_minor": 2
}
